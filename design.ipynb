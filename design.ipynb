{
 "cells": [
  {
   "cell_type": "code",
   "execution_count": 1,
   "id": "62839b8f",
   "metadata": {},
   "outputs": [],
   "source": [
    "# SETUP\n",
    "import pandas as pd\n",
    "import numpy as np\n",
    "import matplotlib.pyplot as plt\n",
    "from scipy.stats import norm, binom, hypergeom\n",
    "\n",
    "import warnings\n",
    "warnings.filterwarnings('ignore')"
   ]
  },
  {
   "attachments": {
    "image.png": {
     "image/png": "[encoded data removed]"
    }
   },
   "cell_type": "markdown",
   "id": "fae4e015",
   "metadata": {},
   "source": [
    "**OBS**\n",
    "\n",
    "![image.png](attachment:image.png)"
   ]
  },
  {
   "cell_type": "markdown",
   "id": "e1f23e83",
   "metadata": {},
   "source": [
    "# 1. Uma proporção com aproximação normal."
   ]
  },
  {
   "cell_type": "code",
   "execution_count": 2,
   "id": "3a5e78f8",
   "metadata": {},
   "outputs": [],
   "source": [
    "def decision1(p_value, diff_obs, n_obs, n_min, alpha=0.05, MDE=0.05):\n",
    "    \"\"\"\n",
    "    Fluxo de decisão para avaliar degradação.\n",
    "\n",
    "    Parâmetros\n",
    "    ----------\n",
    "    p_value : float\n",
    "        Valor-p do teste (já calculado).\n",
    "    diff_obs : float\n",
    "        Diferença observada (p_exp - p_obs).\n",
    "    n_obs : int\n",
    "        Tamanho da amostra observada.\n",
    "    n_min : int\n",
    "        Tamanho mínimo da amostra necessário para detectar MDE.\n",
    "    alpha : float, opcional\n",
    "        Nível de significância (default=0.05).\n",
    "    MDE : float, opcional\n",
    "        Mínimo efeito detectável (default=0.05).\n",
    "\n",
    "    Retorna\n",
    "    -------\n",
    "    str : decisão final\n",
    "    \"\"\"\n",
    "\n",
    "    if p_value <= alpha:\n",
    "        if diff_obs >= MDE:\n",
    "            return \"Degradação relevante\"\n",
    "        else:\n",
    "            return \"Degradação irrelevante\"\n",
    "    else:\n",
    "        if n_obs >= n_min:\n",
    "            return \"Não há evidência de degradação\"\n",
    "        else:\n",
    "            return \"Inconclusivo (amostra insuficiente)\"\n",
    "        \n",
    "def decision2(p_value, diff_obs, n_base, n_obs, n_min, alpha=0.05, MDE=0.05):\n",
    "    \"\"\"\n",
    "    Fluxo de decisão para avaliar degradação (teste unicaudal para queda).\n",
    "\n",
    "    Parâmetros\n",
    "    ----------\n",
    "    p_value : float\n",
    "        Valor-p do teste (já calculado).\n",
    "    diff_obs : float\n",
    "        Diferença observada (p_exp - p_obs).\n",
    "    n_base : int\n",
    "        Tamanho da amostra do baseline.\n",
    "    n_obs : int\n",
    "        Tamanho da amostra da produção/observado.\n",
    "    n_min : int\n",
    "        Tamanho mínimo por grupo necessário para detectar a MDE (planejado).\n",
    "    alpha : float, opcional\n",
    "        Nível de significância (default=0.05).\n",
    "    MDE : float, opcional\n",
    "        Mínimo efeito detectável (default=0.05).\n",
    "\n",
    "    Retorna\n",
    "    -------\n",
    "    str : decisão final\n",
    "    \"\"\"\n",
    "    n_eff = min(n_base, n_obs)  # efetivo para checar suficiência amostral\n",
    "\n",
    "    if p_value <= alpha:\n",
    "        if diff_obs >= MDE:\n",
    "            return \"Degradação relevante\"\n",
    "        else:\n",
    "            return \"Degradação irrelevante\"\n",
    "    else:\n",
    "        if n_eff >= n_min:\n",
    "            return \"Não há evidência de degradação\"\n",
    "        else:\n",
    "            return \"Inconclusivo (amostra insuficiente)\"\n"
   ]
  },
  {
   "cell_type": "markdown",
   "id": "be033520",
   "metadata": {},
   "source": [
    "## Significância:"
   ]
  },
  {
   "cell_type": "code",
   "execution_count": 3,
   "id": "5cec3aee",
   "metadata": {},
   "outputs": [],
   "source": [
    "# Inputs\n",
    "p_exp = 0.90 # Valor esperado\n",
    "p_obs = 0.88 # Veio da amostra fornecida\n",
    "n_obs = 300  # Veio da amostra fornecida\n",
    "MDE   = 0.05 # Definição do business\n",
    "alpha = 0.05 # Definição técninca\n",
    "beta  = 0.20 # Definição técninca"
   ]
  },
  {
   "cell_type": "markdown",
   "id": "80eadf0e",
   "metadata": {},
   "source": [
    "**Normal:**"
   ]
  },
  {
   "cell_type": "code",
   "execution_count": 4,
   "id": "686f37ec",
   "metadata": {},
   "outputs": [
    {
     "name": "stdout",
     "output_type": "stream",
     "text": [
      "Pode aproximar pela normal: True\n",
      "Z_obs = -1.15\n",
      "p-valor = 0.1241 > α = 0.05 → Não rejeitamos H0\n"
     ]
    }
   ],
   "source": [
    "# H0: p = p0: O valor observado provém do acaso da amostragem, e não temos evidência para rejeitar H0 em favor de H1.\n",
    "# H1: p < p0: De fato a proporção em produção é inferior ao esperado.\n",
    "\n",
    "# Distribuição sob H0:\n",
    "p0 = p_exp\n",
    "n  = n_obs\n",
    "\n",
    "## Requisitos para aproximação normal\n",
    "print(f\"Pode aproximar pela normal: {(n*p0 >= 10) and (n*(1-p0) >= 10)}\") \n",
    "\n",
    "## Padronizando o valor observado\n",
    "SE0   = np.sqrt(p0*(1-p0)/n)\n",
    "Z_obs = (p_obs - p0)/SE0\n",
    "print(f\"Z_obs = {np.round(Z_obs, 2)}\")\n",
    "\n",
    "## Calculando p_value (probabilidade do acaso gerar um valor menor ou igual ao observado)\n",
    "p_value = norm.cdf(Z_obs)\n",
    "\n",
    "## Decisão\n",
    "if p_value <= alpha:\n",
    "    print(f\"p-valor = {p_value:.4f} ≤ α = {alpha} → Rejeitamos H0\")\n",
    "else:\n",
    "    print(f\"p-valor = {p_value:.4f} > α = {alpha} → Não rejeitamos H0\")"
   ]
  },
  {
   "cell_type": "markdown",
   "id": "2604be5a",
   "metadata": {},
   "source": [
    "## Poder do Teste:"
   ]
  },
  {
   "attachments": {
    "image.png": {
     "image/png": "[encoded data removed]"
    }
   },
   "cell_type": "markdown",
   "id": "000f1a5c",
   "metadata": {},
   "source": [
    "![image.png](attachment:image.png)"
   ]
  },
  {
   "attachments": {
    "image.png": {
     "image/png": "[encoded data removed]"
    }
   },
   "cell_type": "markdown",
   "id": "18a0f676",
   "metadata": {},
   "source": [
    "![image.png](attachment:image.png)"
   ]
  },
  {
   "cell_type": "code",
   "execution_count": 5,
   "id": "24ad4a41",
   "metadata": {},
   "outputs": [
    {
     "name": "stdout",
     "output_type": "stream",
     "text": [
      "\n",
      ">>>> Para detectar uma diferença mínima de 5p.p. em 80% das vezes que de fato ela existir.\n",
      ">>>> Sob o risco de dizer que essa diferença ocorre em no máximo 5% dos casos onde de fato ela não existe.\n",
      ">>>> Precisamos de um n_min = 253.\n",
      "\n"
     ]
    }
   ],
   "source": [
    "p1        = p0 - MDE\n",
    "Z_1_alpha = norm.ppf(1-alpha)\n",
    "Z_1_beta  = norm.ppf(1-beta)\n",
    "n_min     = int(np.ceil(((Z_1_alpha*np.sqrt(p0*(1-p0)) + Z_1_beta*np.sqrt(p1*(1-p1)))**2)/((p0-p1)**2)))\n",
    "print(f\"\"\"\n",
    ">>>> Para detectar uma diferença mínima de {int(np.round(MDE*100,0))}p.p. em {int((1-beta)*100)}% das vezes que de fato ela existir.\n",
    ">>>> Sob o risco de dizer que essa diferença ocorre em no máximo {int((alpha)*100)}% dos casos onde de fato ela não existe.\n",
    ">>>> Precisamos de um n_min = {n_min}.\n",
    "\"\"\")"
   ]
  },
  {
   "cell_type": "markdown",
   "id": "97c6b87e",
   "metadata": {},
   "source": [
    "## Decisão"
   ]
  },
  {
   "cell_type": "code",
   "execution_count": 6,
   "id": "693bede0",
   "metadata": {},
   "outputs": [
    {
     "data": {
      "text/plain": [
       "'Não há evidência de degradação'"
      ]
     },
     "execution_count": 6,
     "metadata": {},
     "output_type": "execute_result"
    }
   ],
   "source": [
    "diff_obs = np.round(p_exp - p_obs,2)\n",
    "decision1(p_value, diff_obs, n_obs, n_min, alpha, MDE)"
   ]
  },
  {
   "cell_type": "markdown",
   "id": "e91bcd91",
   "metadata": {},
   "source": [
    "# 2. Uma proporção sem aproximação normal."
   ]
  },
  {
   "cell_type": "markdown",
   "id": "a9b4cddd",
   "metadata": {},
   "source": [
    "## Significância:"
   ]
  },
  {
   "cell_type": "code",
   "execution_count": 7,
   "id": "b85bf6c4",
   "metadata": {},
   "outputs": [],
   "source": [
    "# Inputs\n",
    "p_exp = 0.90 # Valor esperado\n",
    "p_obs = 0.88 # Veio da amostra fornecida\n",
    "n_obs = 50   # Veio da amostra fornecida\n",
    "MDE   = 0.05 # Definição do business\n",
    "alpha = 0.05 # Definição técninca\n",
    "beta  = 0.20 # Definição técninca"
   ]
  },
  {
   "cell_type": "markdown",
   "id": "073b526a",
   "metadata": {},
   "source": [
    "**Binomial Exato:**\n",
    "- Suponha que coletamos uma amostra de tamanho **n**, na qual a probabilidade de obter sucesso em cada observação é sempre **p**.\n",
    "- Se repetirmos esse experimento infinitas vezes, o número de sucessos em cada repetição seguirá uma distribuição binomial, que nos fornece as probabilidades de observar diferentes quantidades de sucessos em n tentativas."
   ]
  },
  {
   "cell_type": "code",
   "execution_count": 8,
   "id": "1df59a75",
   "metadata": {},
   "outputs": [
    {
     "name": "stdout",
     "output_type": "stream",
     "text": [
      "p-valor = 0.3839 > α = 0.05 → Não rejeitamos H0\n"
     ]
    }
   ],
   "source": [
    "# H0: p = p0: O valor observado provém do acaso da amostragem, e não temos evidência para rejeitar H0 em favor de H1.\n",
    "# H1: p < p0: De fato a proporção em produção é inferior ao esperado.\n",
    "\n",
    "# Distribuição sob H0:\n",
    "p0 = p_exp\n",
    "n  = n_obs\n",
    "x  = binom(n, p0) # p = x/n\n",
    "\n",
    "## número de sucessos observados, equivalente a p_obs:\n",
    "x_obs = round(n * p_obs)\n",
    "\n",
    "## Prbabilidade de observar um número de sucessos menor ou igual ao observado em n tentativas, somente pelo efeito do acaso.\n",
    "p_value = binom.cdf(x_obs, n, p0)\n",
    "\n",
    "## Decisão\n",
    "if p_value <= alpha:\n",
    "    print(f\"p-valor = {p_value:.4f} ≤ α = {alpha} → Rejeitamos H0\")\n",
    "else:\n",
    "    print(f\"p-valor = {p_value:.4f} > α = {alpha} → Não rejeitamos H0\")"
   ]
  },
  {
   "cell_type": "markdown",
   "id": "81dbbc7c",
   "metadata": {},
   "source": [
    "## Poder do Teste:"
   ]
  },
  {
   "attachments": {
    "image.png": {
     "image/png": "[encoded data removed]"
    }
   },
   "cell_type": "markdown",
   "id": "35a22ad6",
   "metadata": {},
   "source": [
    "![image.png](attachment:image.png)"
   ]
  },
  {
   "cell_type": "code",
   "execution_count": 9,
   "id": "521eb830",
   "metadata": {},
   "outputs": [
    {
     "name": "stdout",
     "output_type": "stream",
     "text": [
      "n_min = 270\n",
      "\n",
      ">>>> Para detectar uma diferença mínima de 5p.p. em 80% das vezes que de fato ela existir.\n",
      ">>>> Sob o risco de dizer que essa diferença ocorre em no máximo 5% dos casos onde de fato ela não existe.\n",
      ">>>> Precisamos de um n_min = 270.\n",
      "\n"
     ]
    }
   ],
   "source": [
    "n = 0\n",
    "while True:\n",
    "    n +=1\n",
    "\n",
    "    # Distribuição sob H0:\n",
    "    dist_h0  = binom(n, p0) # x sucessos sob H0\n",
    "\n",
    "    # Distribuição sob H1:\n",
    "    dist_h1 = binom(n, p1) # x sucessos sob H1\n",
    "\n",
    "    # Queremos c que satisfaça: \n",
    "    ## 1) P_H0(X <= c) <= alpha\n",
    "    c = int(dist_h0.ppf(alpha))        # | P(X ≤ k) ≥ alpha\n",
    "    while dist_h0.cdf(c) > alpha: c-=1 # Ajuste para não violar alpha\n",
    "\n",
    "    ## 2) P_H1(X <= c) >= 1 - beta\n",
    "    if dist_h1.cdf(c) >= 1 - beta:\n",
    "        print(f\"n_min = {n}\")\n",
    "        #print(f\"c = {c}\")\n",
    "        #print(f\"alpha_real = {dist_h0.cdf(c)}\")\n",
    "        #print(f\"poder_real = {dist_h1.cdf(c)}\")\n",
    "        n_min = n\n",
    "        break\n",
    "\n",
    "print(f\"\"\"\n",
    ">>>> Para detectar uma diferença mínima de {int(np.round(MDE*100,0))}p.p. em {int((1-beta)*100)}% das vezes que de fato ela existir.\n",
    ">>>> Sob o risco de dizer que essa diferença ocorre em no máximo {int((alpha)*100)}% dos casos onde de fato ela não existe.\n",
    ">>>> Precisamos de um n_min = {n_min}.\n",
    "\"\"\")"
   ]
  },
  {
   "cell_type": "markdown",
   "id": "42f756ee",
   "metadata": {},
   "source": [
    "## Decisão"
   ]
  },
  {
   "cell_type": "code",
   "execution_count": 10,
   "id": "d95f5f2a",
   "metadata": {},
   "outputs": [
    {
     "data": {
      "text/plain": [
       "'Inconclusivo (amostra insuficiente)'"
      ]
     },
     "execution_count": 10,
     "metadata": {},
     "output_type": "execute_result"
    }
   ],
   "source": [
    "diff_obs = np.round(p_exp - p_obs,2)\n",
    "decision1(p_value, diff_obs, n_obs, n_min, alpha, MDE)"
   ]
  },
  {
   "cell_type": "markdown",
   "id": "e26c92a5",
   "metadata": {},
   "source": [
    "# 3. Duas proporções com aproximação normal."
   ]
  },
  {
   "cell_type": "markdown",
   "id": "e09789ae",
   "metadata": {},
   "source": [
    "## Significância:"
   ]
  },
  {
   "cell_type": "code",
   "execution_count": 11,
   "id": "c1581d7a",
   "metadata": {},
   "outputs": [],
   "source": [
    "# Inputs\n",
    "p_base = 0.94 # Veio da amostra fornecida\n",
    "n_base = 400  # Veio da amostra fornecida\n",
    "p_obs  = 0.89 # Veio da amostra fornecida\n",
    "n_obs  = 400  # Veio da amostra fornecida\n",
    "MDE    = 0.05 # Definição do business\n",
    "alpha  = 0.05 # Definição técninca\n",
    "beta   = 0.20 # Definição técninca"
   ]
  },
  {
   "cell_type": "markdown",
   "id": "3e97294a",
   "metadata": {},
   "source": [
    "**Normal:**"
   ]
  },
  {
   "cell_type": "code",
   "execution_count": 12,
   "id": "fec5abaf",
   "metadata": {},
   "outputs": [
    {
     "name": "stdout",
     "output_type": "stream",
     "text": [
      "Pode aproximar pela normal: True\n",
      "Pode aproximar pela normal: True\n",
      "Z_obs = 2.54\n",
      "p-valor = 0.0056 ≤ α = 0.05 → Rejeitamos H0\n"
     ]
    }
   ],
   "source": [
    "# A: baseline\n",
    "# B: produção\n",
    "# H0: pA - pB = 0: O valor observado provém do acaso da amostragem, e não temos evidência para rejeitar H0 em favor de H1.\n",
    "# H1: pA - pB > 0: De fato a proporção em produção é inferior ao baseline.\n",
    "\n",
    "# Distribuição sob H0:\n",
    "nA = n_base\n",
    "nB = n_obs\n",
    "p0 = (nA*p_base + nB*p_obs)/(nA + nB) # pooled amostral\n",
    "\n",
    "## Requisitos para aproximação normal\n",
    "print(f\"Pode aproximar pela normal: {(nA*p0 >= 10) and (nA*(1-p0) >= 10)}\") \n",
    "print(f\"Pode aproximar pela normal: {(nB*p0 >= 10) and (nB*(1-p0) >= 10)}\") \n",
    "\n",
    "## Padronizando o valor observado\n",
    "SE0      = np.sqrt(p0*(1-p0)/nA + p0*(1-p0)/nB)\n",
    "diff_obs = p_base - p_obs\n",
    "Z_obs    = diff_obs/SE0\n",
    "print(f\"Z_obs = {np.round(Z_obs, 2)}\")\n",
    "\n",
    "## Calculando p_value (probabilidade do acaso gerar uma diferença maior ou igual ao observado)\n",
    "p_value = 1 - norm.cdf(Z_obs)\n",
    "\n",
    "## Decisão\n",
    "if p_value <= alpha:\n",
    "    print(f\"p-valor = {p_value:.4f} ≤ α = {alpha} → Rejeitamos H0\")\n",
    "else:\n",
    "    print(f\"p-valor = {p_value:.4f} > α = {alpha} → Não rejeitamos H0\")"
   ]
  },
  {
   "cell_type": "markdown",
   "id": "4f738dd5",
   "metadata": {},
   "source": [
    "## Poder do Teste:"
   ]
  },
  {
   "attachments": {
    "image.png": {
     "image/png": "[encoded data removed]"
    }
   },
   "cell_type": "markdown",
   "id": "66dc6d33",
   "metadata": {},
   "source": [
    "![image.png](attachment:image.png)"
   ]
  },
  {
   "cell_type": "code",
   "execution_count": 13,
   "id": "13b1a8c5",
   "metadata": {},
   "outputs": [
    {
     "name": "stdout",
     "output_type": "stream",
     "text": [
      "\n",
      ">>>> Para detectar uma diferença mínima de 5p.p. em 80% das vezes que de fato ela existir.\n",
      ">>>> Sob o risco de dizer que essa diferença ocorre em no máximo 5% dos casos onde de fato ela não existe.\n",
      ">>>> Precisamos de um n_min = 384 por grupo.\n",
      "\n"
     ]
    }
   ],
   "source": [
    "pA        = p_base            # Valor esperado do Baseline (0,5 - Extremo | histórico, piloto)\n",
    "pB        = pA - MDE          # Observado sob o efeito mínimo detectável\n",
    "p0        = (pA + pB)/2       # Média (não é o pooled observado)\n",
    "\n",
    "Z_1_alpha = norm.ppf(1-alpha) # Sob H0: Rejeita H0 quando -> P_ho(diff >= c) <= alpha -> Z >= Z_1_alpha\n",
    "Z_1_beta  = norm.ppf(1-beta)  # Sob H1: Poder do teste    -> P_h1(diff >= c) >= 1- beta -> Z >= Z_beta\n",
    "n_min     = ((Z_1_alpha * np.sqrt(2*p0*(1-p0)) + Z_1_beta * np.sqrt((pA*(1-pA) + pB*(1-pB)))) / (pA - pB)) ** 2\n",
    "n_min     = int(np.ceil(n_min))\n",
    "\n",
    "print(f\"\"\"\n",
    ">>>> Para detectar uma diferença mínima de {int(np.round(MDE*100,0))}p.p. em {int((1-beta)*100)}% das vezes que de fato ela existir.\n",
    ">>>> Sob o risco de dizer que essa diferença ocorre em no máximo {int((alpha)*100)}% dos casos onde de fato ela não existe.\n",
    ">>>> Precisamos de um n_min = {n_min} por grupo.\n",
    "\"\"\")\n"
   ]
  },
  {
   "cell_type": "markdown",
   "id": "17ed2f46",
   "metadata": {},
   "source": [
    "## Decisão"
   ]
  },
  {
   "cell_type": "code",
   "execution_count": 14,
   "id": "8ccd8e1d",
   "metadata": {},
   "outputs": [
    {
     "data": {
      "text/plain": [
       "'Degradação relevante'"
      ]
     },
     "execution_count": 14,
     "metadata": {},
     "output_type": "execute_result"
    }
   ],
   "source": [
    "diff_obs = np.round(p_base - p_obs,2)\n",
    "decision2(p_value, diff_obs, n_base, n_obs, n_min, alpha, MDE)"
   ]
  },
  {
   "cell_type": "markdown",
   "id": "f2266f9c",
   "metadata": {},
   "source": [
    "# 4. Duas proporções sem aproximação normal."
   ]
  },
  {
   "cell_type": "markdown",
   "id": "b1575ece",
   "metadata": {},
   "source": [
    "## Significância:"
   ]
  },
  {
   "cell_type": "code",
   "execution_count": 15,
   "id": "10943435",
   "metadata": {},
   "outputs": [],
   "source": [
    "# Inputs\n",
    "p_base = 0.94 # Veio da amostra fornecida\n",
    "n_base = 400  # Veio da amostra fornecida\n",
    "p_obs  = 0.89 # Veio da amostra fornecida\n",
    "n_obs  = 400  # Veio da amostra fornecida\n",
    "MDE    = 0.05 # Definição do business\n",
    "alpha  = 0.05 # Definição técninca\n",
    "beta   = 0.20 # Definição técninca"
   ]
  },
  {
   "attachments": {
    "image.png": {
     "image/png": "[encoded data removed]"
    }
   },
   "cell_type": "markdown",
   "id": "c7f793a3",
   "metadata": {},
   "source": [
    "![image.png](attachment:image.png)"
   ]
  },
  {
   "cell_type": "markdown",
   "id": "c305d71a",
   "metadata": {},
   "source": [
    "**Teste Exato de Fisher**"
   ]
  },
  {
   "attachments": {
    "image.png": {
     "image/png": "[encoded data removed]"
    }
   },
   "cell_type": "markdown",
   "id": "4608ade0",
   "metadata": {},
   "source": [
    "![image.png](attachment:image.png)"
   ]
  },
  {
   "attachments": {
    "image.png": {
     "image/png": "[encoded data removed]"
    }
   },
   "cell_type": "markdown",
   "id": "1d6340bf",
   "metadata": {},
   "source": [
    "![image.png](attachment:image.png)"
   ]
  },
  {
   "cell_type": "code",
   "execution_count": 16,
   "id": "f33b830d",
   "metadata": {},
   "outputs": [
    {
     "name": "stdout",
     "output_type": "stream",
     "text": [
      "p-valor = 0.0077 ≤ α = 0.05 → Rejeitamos H0\n"
     ]
    }
   ],
   "source": [
    "# Garantir consistência\n",
    "x_obs  = int(round(p_obs  * n_obs))  # Somente valor inteiro\n",
    "x_base = int(round(p_base * n_base)) # Somente valor inteiro\n",
    "x_obs  = min(max(0, x_obs),  n_obs)  # 0 <= x_obs <= n_obs\n",
    "x_base = min(max(0, x_base), n_base) # 0 <= x_base <= n_base\n",
    "\n",
    "# Distribuição sob H0:\n",
    "\n",
    "## Marginais fixas:\n",
    "M = n_obs + n_base     # Tamanho da população (finita)\n",
    "N = n_obs              # Tamanho da amostra coletada aleatoriamente para compor o grupo de interesse\n",
    "n = x_obs + x_base     # Quantidade de ocorrências do atributo de interesse na população\n",
    "K = hypergeom(M, n, N) # Distribuição do número de sucessos obtidos em cada amostragem aleatoria de tamanho N a partir da população M, supondo que não há diferença entre os grupos.\n",
    "\n",
    "k_min = max(0, N - (M - n))  # mínimo de “1” possível = max(0, amostra - nº de zeros disponíveis)\n",
    "k_max = min(N, n)            # máximo de “1” possível = min(tamanho da amostra, total de “1” na população)\n",
    "assert k_min <= x_obs <= k_max\n",
    "\n",
    "\n",
    "## p_value = P(K <= x_obs): (probabilidade do acaso gerar um k menor ou igual ao k_obs)\n",
    "p_value_less = K.cdf(x_obs)\n",
    "\n",
    "## p_value = P(K > x_obs)  +  P(K = x_obs): (probabilidade do acaso gerar um k maior ou igual ao k_obs)\n",
    "p_value_greater = K.sf(x_obs - 1)\n",
    "\n",
    "## p_value = pmf[pmf(x_obs) <= pmf(k)].sum(): Bicaudal, probabilidade do acaso gerar uma tabela tão improvável quanto à observada.\n",
    "pmfs        = K.pmf(np.arange(k_min, k_max + 1))\n",
    "pmf_obs     = K.pmf(x_obs)\n",
    "p_value_two = pmfs[pmfs <= pmf_obs].sum()\n",
    "\n",
    "## Decisão\n",
    "p_value = p_value_less\n",
    "if p_value <= alpha:\n",
    "    print(f\"p-valor = {p_value:.4f} ≤ α = {alpha} → Rejeitamos H0\")\n",
    "else:\n",
    "    print(f\"p-valor = {p_value:.4f} > α = {alpha} → Não rejeitamos H0\")"
   ]
  },
  {
   "cell_type": "markdown",
   "id": "4e6a7206",
   "metadata": {},
   "source": [
    "## Poder do Teste:"
   ]
  },
  {
   "cell_type": "code",
   "execution_count": 17,
   "id": "b0d18420",
   "metadata": {},
   "outputs": [],
   "source": [
    "REP   = 100_000\n",
    "pA    = p_base            # Valor esperado do Baseline (0,5 - Extremo | histórico, piloto)\n",
    "pB    = pA - MDE          # Observado sob o efeito mínimo detectável\n",
    "n_min = 1\n",
    "power = 0\n",
    "\n",
    "while power < 1 - beta:\n",
    "\n",
    "    # Distribuição sob H1:\n",
    "    x_base  = binom.rvs(n_min, pA, size = REP) # Sucesso observados\n",
    "    x_obs  = binom.rvs(n_min, pB, size = REP)  # Sucesso observados\n",
    "    n_obs = n_base = n_min\n",
    "\n",
    "    # Relizando o mesmo procedimento do teste de hipótese, mas sabendo que as amostras provém de populações distintas:\n",
    "    #------>\n",
    "    ## Marginais fixas:\n",
    "    M = n_obs + n_base     # Tamanho da população (finita)\n",
    "    N = n_obs              # Tamanho da amostra coletada aleatoriamente para compor o grupo de interesse\n",
    "    n = x_obs + x_base     # Quantidade de ocorrências do atributo de interesse na população\n",
    "    K = hypergeom(M, n, N) # Distribuição do número de sucessos obtidos em cada amostragem aleatoria de tamanho N a partir da população M, supondo que não há diferença entre os grupos.\n",
    "\n",
    "    ## p_value = P(K <= x_obs): (probabilidade do acaso gerar um k menor ou igual ao k_obs)\n",
    "    p_value_less = K.cdf(x_obs)\n",
    "    #------>\n",
    "    \n",
    "    # power = 1 - beta, proporção de vezes que o H0 foi rejeitado, sendo que de fato é falso\n",
    "    power = (p_value_less <= alpha).mean()\n",
    "\n",
    "    # incremento\n",
    "    n_min += 1"
   ]
  },
  {
   "cell_type": "code",
   "execution_count": 18,
   "id": "a3c96efb",
   "metadata": {},
   "outputs": [
    {
     "name": "stdout",
     "output_type": "stream",
     "text": [
      "\n",
      ">>>> Para detectar uma diferença mínima de 5p.p. em 80% das vezes que de fato ela existir.\n",
      ">>>> Sob o risco de dizer que essa diferença ocorre em no máximo 5% dos casos onde de fato ela não existe.\n",
      ">>>> Precisamos de um n_min = 416 por grupo.\n",
      "\n"
     ]
    }
   ],
   "source": [
    "print(f\"\"\"\n",
    ">>>> Para detectar uma diferença mínima de {int(np.round(MDE*100,0))}p.p. em {int((1-beta)*100)}% das vezes que de fato ela existir.\n",
    ">>>> Sob o risco de dizer que essa diferença ocorre em no máximo {int((alpha)*100)}% dos casos onde de fato ela não existe.\n",
    ">>>> Precisamos de um n_min = {n_min} por grupo.\n",
    "\"\"\")"
   ]
  },
  {
   "cell_type": "markdown",
   "id": "c3fca3a0",
   "metadata": {},
   "source": [
    "## Decisão"
   ]
  },
  {
   "cell_type": "code",
   "execution_count": 19,
   "id": "0ce1d988",
   "metadata": {},
   "outputs": [
    {
     "data": {
      "text/plain": [
       "'Degradação relevante'"
      ]
     },
     "execution_count": 19,
     "metadata": {},
     "output_type": "execute_result"
    }
   ],
   "source": [
    "diff_obs = np.round(p_base - p_obs,2)\n",
    "decision2(p_value, diff_obs, n_base, n_obs, n_min, alpha, MDE)"
   ]
  }
 ],
 "metadata": {
  "kernelspec": {
   "display_name": "zurich",
   "language": "python",
   "name": "python3"
  },
  "language_info": {
   "codemirror_mode": {
    "name": "ipython",
    "version": 3
   },
   "file_extension": ".py",
   "mimetype": "text/x-python",
   "name": "python",
   "nbconvert_exporter": "python",
   "pygments_lexer": "ipython3",
   "version": "3.11.13"
  }
 },
 "nbformat": 4,
 "nbformat_minor": 5
}
