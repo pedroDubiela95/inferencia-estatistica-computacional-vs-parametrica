{
 "cells": [
  {
   "cell_type": "code",
   "execution_count": 1,
   "id": "62839b8f",
   "metadata": {},
   "outputs": [],
   "source": [
    "# SETUP\n",
    "import pandas as pd\n",
    "import numpy as np\n",
    "import matplotlib.pyplot as plt\n",
    "from scipy.stats import norm, t, f, chi2, binom\n",
    "\n",
    "import warnings\n",
    "warnings.filterwarnings('ignore')"
   ]
  },
  {
   "cell_type": "markdown",
   "id": "e1f23e83",
   "metadata": {},
   "source": [
    "# 1. Uma proporção:\n",
    "Foi informado o valor do baseline e fornecido uma amostra da produção. A incerteza provém somente da amostra de produção.\n",
    "- p0: Baseline\n",
    "- pObs: Produção\n",
    "- n: Tamanho da amostra de produção\n",
    "- MDE: Diferença mínima relevante para o business\n",
    "- alpha: 0,05\n",
    "- beta: 0,2"
   ]
  },
  {
   "cell_type": "code",
   "execution_count": 2,
   "id": "5cec3aee",
   "metadata": {},
   "outputs": [],
   "source": [
    "# Exemplo\n",
    "p0    = 0.90\n",
    "pObs  = 0.84\n",
    "MDE   = 0.05\n",
    "p1    = p0 - MDE\n",
    "n     = 150\n",
    "alpha = 0.05\n",
    "beta  = 0.2"
   ]
  },
  {
   "cell_type": "markdown",
   "id": "30aa6962",
   "metadata": {},
   "source": [
    "## 1.1 Realização do teste de hipótese:"
   ]
  },
  {
   "cell_type": "code",
   "execution_count": 3,
   "id": "686f37ec",
   "metadata": {},
   "outputs": [],
   "source": [
    "# H0: p = p0: O valor observado provém do acaso da amostragem, e não temos evidência para rejeitar H0 em favor de H1.\n",
    "# H0: p < p0: De fato a proporção em produção é inferior ao baseline."
   ]
  },
  {
   "cell_type": "markdown",
   "id": "bf73741b",
   "metadata": {},
   "source": [
    "### 1.1.2 Aproximação Normal:"
   ]
  },
  {
   "cell_type": "code",
   "execution_count": 4,
   "id": "f43707ab",
   "metadata": {},
   "outputs": [
    {
     "name": "stdout",
     "output_type": "stream",
     "text": [
      "135\n",
      "14\n"
     ]
    }
   ],
   "source": [
    "# Requisitos para aproximação normal -> OK\n",
    "print(int(n*p0))     # deve ser >= 10\n",
    "print(int(n*(1-p0))) # deve ser >= 10"
   ]
  },
  {
   "cell_type": "code",
   "execution_count": 5,
   "id": "0f5d7fad",
   "metadata": {},
   "outputs": [
    {
     "name": "stdout",
     "output_type": "stream",
     "text": [
      "Z_obs = -2.45\n",
      "p-valor = 0.0072 ≤ α = 0.05 → Rejeitamos H0\n"
     ]
    }
   ],
   "source": [
    "# Sob H0:\n",
    "\n",
    "## Padronizando o valor observado\n",
    "SE0 = np.sqrt(p0*(1-p0)/n)\n",
    "Z_obs = (pObs - p0)/SE0\n",
    "print(f\"Z_obs = {np.round(Z_obs, 2)}\")\n",
    "\n",
    "## Calculando p_value (probabilidade do acaso gerar um valor menor ou igual ao observado)\n",
    "p_value = norm.cdf(Z_obs)\n",
    "\n",
    "## Decisão\n",
    "if p_value <= alpha:\n",
    "    print(f\"p-valor = {p_value:.4f} ≤ α = {alpha} → Rejeitamos H0\")\n",
    "else:\n",
    "    print(f\"p-valor = {p_value:.4f} > α = {alpha} → Não rejeitamos H0\")"
   ]
  },
  {
   "cell_type": "markdown",
   "id": "b37cfb68",
   "metadata": {},
   "source": [
    "### 1.1.3 Teste Exato: X sucessos em n tentativas\n",
    "A Binomial modela o nº de sucessos em n tentativas fixas e independentes, cada uma com probabilidade p constante de sucesso (população grande).\n"
   ]
  },
  {
   "cell_type": "code",
   "execution_count": 6,
   "id": "bd78f3a2",
   "metadata": {},
   "outputs": [
    {
     "name": "stdout",
     "output_type": "stream",
     "text": [
      "p-valor = 0.0143 ≤ α = 0.05 → Rejeitamos H0\n"
     ]
    }
   ],
   "source": [
    "# Sob H0:\n",
    "p     = p0     # probabilidade de sucesso\n",
    "x_obs = n*pObs # número de sucessos observados\n",
    "n     = n      # tentativas\n",
    "\n",
    "## Prbabilidade de observar um número de sucessos menor ou igual ao observado, somente pelo efeito do acaso.\n",
    "p_value = binom.cdf(x_obs, n, p0)\n",
    "\n",
    "## Decisão\n",
    "if p_value <= alpha:\n",
    "    print(f\"p-valor = {p_value:.4f} ≤ α = {alpha} → Rejeitamos H0\")\n",
    "else:\n",
    "    print(f\"p-valor = {p_value:.4f} > α = {alpha} → Não rejeitamos H0\")"
   ]
  },
  {
   "cell_type": "markdown",
   "id": "2604be5a",
   "metadata": {},
   "source": [
    "# 1.2 Poder do Teste:"
   ]
  },
  {
   "cell_type": "markdown",
   "id": "b01475a8",
   "metadata": {},
   "source": [
    "<img src=\"img/d1.jpeg\" width=\"500\">\n",
    "<img src=\"img/d2.jpeg\" width=\"500\">"
   ]
  },
  {
   "cell_type": "markdown",
   "id": "cc5eea73",
   "metadata": {},
   "source": [
    "### 1.2.1 Aproximação Normal:"
   ]
  },
  {
   "attachments": {
    "image.png": {
     "image/png": "[encoded data removed]"
    }
   },
   "cell_type": "markdown",
   "id": "08a1fb37",
   "metadata": {},
   "source": [
    "![image.png](attachment:image.png)"
   ]
  },
  {
   "attachments": {
    "image.png": {
     "image/png": "[encoded data removed]"
    }
   },
   "cell_type": "markdown",
   "id": "18a0f676",
   "metadata": {},
   "source": [
    "![image.png](attachment:image.png)"
   ]
  },
  {
   "cell_type": "code",
   "execution_count": 7,
   "id": "24ad4a41",
   "metadata": {},
   "outputs": [
    {
     "name": "stdout",
     "output_type": "stream",
     "text": [
      "\n",
      ">>>> Para detectar uma diferença mínima de 5p.p. em 80% das vezes que de fato ela ocorrer.\n",
      ">>>> Sob o risco de dizer que essa diferença ocorre em no máximo 5% dos casos onde de fato ela não ocorre.\n",
      ">>>> Precisamos de um n_min = 253.\n",
      "\n"
     ]
    }
   ],
   "source": [
    "Z_1_alpha = norm.ppf(1-alpha)\n",
    "Z_1_beta  = norm.ppf(1-beta)\n",
    "n_min     = int(np.ceil(((Z_1_alpha*np.sqrt(p0*(1-p0)) + Z_1_beta*np.sqrt(p1*(1-p1)))**2)/((p0-p1)**2)))\n",
    "print(f\"\"\"\n",
    ">>>> Para detectar uma diferença mínima de {int(np.round(MDE*100,0))}p.p. em {int((1-beta)*100)}% das vezes que de fato ela ocorrer.\n",
    ">>>> Sob o risco de dizer que essa diferença ocorre em no máximo {int((alpha)*100)}% dos casos onde de fato ela não ocorre.\n",
    ">>>> Precisamos de um n_min = {n_min}.\n",
    "\"\"\")"
   ]
  },
  {
   "cell_type": "markdown",
   "id": "139eae17",
   "metadata": {},
   "source": [
    "### 1.2.2 Teste Exato: X sucessos em n tentativas"
   ]
  },
  {
   "cell_type": "code",
   "execution_count": 8,
   "id": "30eb7c3a",
   "metadata": {},
   "outputs": [
    {
     "name": "stdout",
     "output_type": "stream",
     "text": [
      "\n",
      ">>>> Para detectar uma diferença mínima de 5p.p. em 80% das vezes que de fato ela ocorrer.\n",
      ">>>> Sob o risco de dizer que essa diferença ocorre em no máximo 5% dos casos onde de fato ela não ocorre.\n",
      ">>>> Precisamos de um n_min = 270.\n",
      "\n"
     ]
    }
   ],
   "source": [
    "def n_min_binomial(p0, p1, alpha=0.05, beta=0.2, n_max=10000):\n",
    "\n",
    "    # Para cada n (tentativas possíveis)\n",
    "    for n in range(1, n_max+1):\n",
    "\n",
    "        # Sob H0: Rejeitamos H0 quando -> P_H0(X <= xc) <= alpha\n",
    "        # Avaliar todo os números de sucesso (xc) dentro de um dado n\n",
    "        for xc in range(n, -1, -1):\n",
    "\n",
    "            if binom.cdf(xc, n, p0) <= alpha: # P_H0(X <= xc) <= alpha\n",
    "                \n",
    "                # Sob H1: P_H1(X <= xc) = 1 - beta \n",
    "                # Queremos power >= 1 - beta\n",
    "                power = binom.cdf(xc, n, p1)\n",
    "                if power >= 1-beta:\n",
    "                    return n\n",
    "    return None\n",
    "\n",
    "# exemplo\n",
    "n_min = n_min_binomial(p0=p0, p1=p1, alpha=alpha, beta=beta)\n",
    "print(f\"\"\"\n",
    ">>>> Para detectar uma diferença mínima de {int(np.round(MDE*100,0))}p.p. em {int((1-beta)*100)}% das vezes que de fato ela ocorrer.\n",
    ">>>> Sob o risco de dizer que essa diferença ocorre em no máximo {int((alpha)*100)}% dos casos onde de fato ela não ocorre.\n",
    ">>>> Precisamos de um n_min = {n_min}.\n",
    "\"\"\")\n"
   ]
  },
  {
   "cell_type": "markdown",
   "id": "b9f2c6b9",
   "metadata": {},
   "source": [
    "# 2. Duas proporções:\n",
    "Foi passado duas amostras, uma do baseline e outra da produção.\n",
    "- pA: Baseline\n",
    "- pB: Produção\n",
    "- nA: Tamanho da amostra baseline\n",
    "- nB: Tamanho da amostra produção\n",
    "- MDE: Diferença mínima relevante para o business\n",
    "- alpha: 0,05\n",
    "- beta: 0,2"
   ]
  },
  {
   "cell_type": "markdown",
   "id": "eef5e3ce",
   "metadata": {},
   "source": [
    "## 2.1 Realização do teste de hipótese:"
   ]
  },
  {
   "cell_type": "code",
   "execution_count": 9,
   "id": "8fc25706",
   "metadata": {},
   "outputs": [],
   "source": [
    "# H0: pA - pB = 0: O valor observado provém do acaso da amostragem, e não temos evidência para rejeitar H0 em favor de H1.\n",
    "# H0: pA - pB > 0: De fato a proporção em produção é inferior ao baseline."
   ]
  }
 ],
 "metadata": {
  "kernelspec": {
   "display_name": "zurich",
   "language": "python",
   "name": "python3"
  },
  "language_info": {
   "codemirror_mode": {
    "name": "ipython",
    "version": 3
   },
   "file_extension": ".py",
   "mimetype": "text/x-python",
   "name": "python",
   "nbconvert_exporter": "python",
   "pygments_lexer": "ipython3",
   "version": "3.11.13"
  }
 },
 "nbformat": 4,
 "nbformat_minor": 5
}
