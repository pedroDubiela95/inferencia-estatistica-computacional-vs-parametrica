{
 "cells": [
  {
   "cell_type": "markdown",
   "id": "098dddae",
   "metadata": {},
   "source": [
    "# Introdução\n",
    "\n",
    "## 📘 Sobre este Estudo\n",
    "\n",
    "Este notebook foi elaborado com fins **didáticos e demonstrativos** para mostrar como aplicar técnicas de **inferência estatística**, utilizando tanto métodos **clássicos (paramétricos)** quanto **computacionais** (como bootstrap e testes de aleatorização).\n",
    "\n",
    "---\n",
    "\n",
    "## 🛒 Contexto do Problema\n",
    "\n",
    "A empresa fictícia **RetailX**, uma varejista digital, lançou uma campanha para testar o impacto de diferentes estratégias promocionais sobre o comportamento de seus clientes. A empresa está especialmente interessada em entender:\n",
    "\n",
    "- Se as campanhas aumentam o engajamento no site\n",
    "- Se as campanhas influenciam a taxa de conversão (compra)\n",
    "- Se há impacto no valor total gasto\n",
    "\n",
    "Para isso, um experimento foi conduzido com **quatro grupos de clientes**, atribuídos aleatoriamente.\n",
    "\n",
    "---\n",
    "\n",
    "## 🎯 Objetivo do Estudo\n",
    "\n",
    "Avaliar se **diferentes tipos de campanha** geram **diferenças estatisticamente significativas** em:\n",
    "- Taxa de conversão (realizou compra ou não)\n",
    "- Valor de compra (gasto em reais)\n",
    "- Número de visitas ao site (antes e depois da campanha)\n",
    "---\n",
    "\n",
    "## 🧾 Descrição das Variáveis\n",
    "\n",
    "| Variável            | Tipo        | Descrição                                                                 |\n",
    "|---------------------|-------------|---------------------------------------------------------------------------|\n",
    "| `grupo`             | Categórica  | **Campanha recebida pelo cliente**:<br>• `A`: grupo **controle** (não recebeu estímulo)<br>• `B`: cupom de desconto<br>• `C`: frete grátis<br>• `D`: cashback |\n",
    "| `evento`            | Binária     | Indicador de conversão: o cliente **realizou uma compra?** (`1` = sim, `0` = não) |\n",
    "| `score`             | Contínua    | Valor total gasto pelo cliente (em reais) durante o período da campanha  |\n",
    "| `pre_treinamento`   | Contínua    | Número de visitas ao site **antes da campanha**                           |\n",
    "| `pos_treinamento`   | Contínua    | Número de visitas ao site **após a campanha**                             |\n",
    "\n",
    "---\n",
    "\n",
    "## 🧠 O que significa “grupo controle”?\n",
    "\n",
    "O grupo **controle** (`grupo = A`) é formado por clientes que **não receberam nenhuma campanha promocional**. Esse grupo serve como **referência neutra**, permitindo que possamos comparar com os demais grupos e **isolar o efeito da campanha**.\n",
    "\n",
    "> Exemplo: Se o grupo B (cupom) tiver maior conversão do que o grupo A (controle), é possível afirmar com maior confiança que o cupom teve impacto real — desde que a diferença seja estatisticamente significativa."
   ]
  },
  {
   "cell_type": "markdown",
   "id": "25bbb34b",
   "metadata": {},
   "source": [
    "# Análises"
   ]
  },
  {
   "cell_type": "code",
   "execution_count": 1,
   "id": "c8e4846d",
   "metadata": {},
   "outputs": [],
   "source": [
    "# SETUP\n",
    "import pandas as pd\n",
    "import numpy as np\n",
    "import matplotlib.pyplot as plt\n",
    "from scipy.stats import norm, t, f, chi2"
   ]
  },
  {
   "cell_type": "code",
   "execution_count": 2,
   "id": "b707478a",
   "metadata": {},
   "outputs": [
    {
     "data": {
      "text/html": [
       "<div>\n",
       "<style scoped>\n",
       "    .dataframe tbody tr th:only-of-type {\n",
       "        vertical-align: middle;\n",
       "    }\n",
       "\n",
       "    .dataframe tbody tr th {\n",
       "        vertical-align: top;\n",
       "    }\n",
       "\n",
       "    .dataframe thead th {\n",
       "        text-align: right;\n",
       "    }\n",
       "</style>\n",
       "<table border=\"1\" class=\"dataframe\">\n",
       "  <thead>\n",
       "    <tr style=\"text-align: right;\">\n",
       "      <th></th>\n",
       "      <th>grupo</th>\n",
       "      <th>evento</th>\n",
       "      <th>score</th>\n",
       "      <th>pre_treinamento</th>\n",
       "      <th>pos_treinamento</th>\n",
       "    </tr>\n",
       "  </thead>\n",
       "  <tbody>\n",
       "    <tr>\n",
       "      <th>0</th>\n",
       "      <td>A</td>\n",
       "      <td>0</td>\n",
       "      <td>0.00</td>\n",
       "      <td>6</td>\n",
       "      <td>6</td>\n",
       "    </tr>\n",
       "    <tr>\n",
       "      <th>1</th>\n",
       "      <td>A</td>\n",
       "      <td>1</td>\n",
       "      <td>70.68</td>\n",
       "      <td>4</td>\n",
       "      <td>4</td>\n",
       "    </tr>\n",
       "    <tr>\n",
       "      <th>2</th>\n",
       "      <td>A</td>\n",
       "      <td>1</td>\n",
       "      <td>60.23</td>\n",
       "      <td>6</td>\n",
       "      <td>6</td>\n",
       "    </tr>\n",
       "    <tr>\n",
       "      <th>3</th>\n",
       "      <td>A</td>\n",
       "      <td>1</td>\n",
       "      <td>102.16</td>\n",
       "      <td>8</td>\n",
       "      <td>8</td>\n",
       "    </tr>\n",
       "    <tr>\n",
       "      <th>4</th>\n",
       "      <td>A</td>\n",
       "      <td>0</td>\n",
       "      <td>0.00</td>\n",
       "      <td>1</td>\n",
       "      <td>2</td>\n",
       "    </tr>\n",
       "  </tbody>\n",
       "</table>\n",
       "</div>"
      ],
      "text/plain": [
       "  grupo  evento   score  pre_treinamento  pos_treinamento\n",
       "0     A       0    0.00                6                6\n",
       "1     A       1   70.68                4                4\n",
       "2     A       1   60.23                6                6\n",
       "3     A       1  102.16                8                8\n",
       "4     A       0    0.00                1                2"
      ]
     },
     "execution_count": 2,
     "metadata": {},
     "output_type": "execute_result"
    }
   ],
   "source": [
    "# LOAD: A base já está sanitizada.\n",
    "base = pd.read_excel(\"dados/base_retailx.xlsx\")\n",
    "base.head()"
   ]
  },
  {
   "cell_type": "markdown",
   "id": "f7a16c46",
   "metadata": {},
   "source": [
    "## 1. Construa um intervalo de confiança de 95% para estimar a proporção de clientes que realizaram compra."
   ]
  },
  {
   "cell_type": "code",
   "execution_count": 3,
   "id": "2dc8e5ad",
   "metadata": {},
   "outputs": [
    {
     "name": "stdout",
     "output_type": "stream",
     "text": [
      "n = 300\n",
      "p_obs = 0.57\n"
     ]
    }
   ],
   "source": [
    "# Variável observada\n",
    "X = base[\"evento\"].values\n",
    "\n",
    "# Tamanho da amostra\n",
    "n = X.shape[0]\n",
    "\n",
    "# Proporção amostral observada\n",
    "p_obs = X.mean()\n",
    "\n",
    "print(f\"n = {n}\")\n",
    "print(f\"p_obs = {np.round(p_obs, 2)}\")"
   ]
  },
  {
   "cell_type": "markdown",
   "id": "125524c9",
   "metadata": {},
   "source": [
    "### Modelo Paramétrico"
   ]
  },
  {
   "cell_type": "markdown",
   "id": "b1bda74f",
   "metadata": {},
   "source": [
    "<img src=\"img/e1a.jpeg\" width=\"500\">\n",
    "<img src=\"img/e1b.jpeg\" width=\"500\">"
   ]
  },
  {
   "cell_type": "code",
   "execution_count": 4,
   "id": "986dd0e6",
   "metadata": {},
   "outputs": [
    {
     "name": "stdout",
     "output_type": "stream",
     "text": [
      "True\n"
     ]
    }
   ],
   "source": [
    "# Melhor estimativa para p\n",
    "p = p_obs\n",
    "\n",
    "# Validação de aproximação pela normal\n",
    "print((n*p >= 10) & (n*(1-p) >= 10))"
   ]
  },
  {
   "cell_type": "code",
   "execution_count": 5,
   "id": "8c0c6033",
   "metadata": {},
   "outputs": [
    {
     "name": "stdout",
     "output_type": "stream",
     "text": [
      "SE = 0.03\n"
     ]
    }
   ],
   "source": [
    "# Erro Padrão\n",
    "SE = np.sqrt(p*(1-p)/n)\n",
    "print(f\"SE = {np.round(SE, 2)}\")"
   ]
  },
  {
   "cell_type": "code",
   "execution_count": 6,
   "id": "bb6038dc",
   "metadata": {},
   "outputs": [
    {
     "name": "stdout",
     "output_type": "stream",
     "text": [
      "Zc = 1.96\n"
     ]
    }
   ],
   "source": [
    "# Obtenção do Zc\n",
    "gama = .95\n",
    "q    = (1- gama)/2 + gama\n",
    "Zc   = norm.ppf(q=q)\n",
    "print(f\"Zc = {np.round(Zc, 2)}\")"
   ]
  },
  {
   "cell_type": "code",
   "execution_count": 7,
   "id": "705a4f22",
   "metadata": {},
   "outputs": [
    {
     "name": "stdout",
     "output_type": "stream",
     "text": [
      "IC = [0.51, 0.62]\n",
      "IC = 0.57 +- 1.96 * 0.03\n"
     ]
    }
   ],
   "source": [
    "# Intervalo de confiança\n",
    "p0 = p_obs - Zc*SE\n",
    "p1 = p_obs + Zc*SE\n",
    "print(f\"IC = [{np.round(p0, 2)}, {np.round(p1, 2)}]\")\n",
    "print(f\"IC = {np.round(p_obs, 2)} +- {np.round(Zc, 2)} * {np.round(SE, 2)}\")"
   ]
  },
  {
   "cell_type": "markdown",
   "id": "ef207458",
   "metadata": {},
   "source": [
    "**Conclusão**\n",
    "\n",
    "- Temos **95% de confiança** de que o verdadeiro valor da proporção populacional \\(p\\) está entre **51% e 62%**. Em outras palavras, acreditamos com 95% de confiança que a **taxa de conversão dos clientes dessa loja** se encontra nesse intervalo.\n",
    "\n",
    "- Essa confiança **não deve ser interpretada** como a probabilidade de que este intervalo específico contenha \\(p\\), pois o valor de \\(p\\) é fixo (embora desconhecido), e o intervalo é aleatório.\n",
    "\n",
    "- A interpretação correta é: Se repetíssemos esse mesmo processo de amostragem e construção de intervalo muitas vezes, em **95% dos casos** os intervalos obtidos conteriam o verdadeiro valor de \\(p\\).\n",
    "\n",
    "- Portanto, com base nessa confiança no processo, podemos selecionar **este único intervalo** e afirmar com **95% de confiança** que o verdadeiro valor de \\(p\\) está entre **51% e 62%**.\n"
   ]
  },
  {
   "cell_type": "markdown",
   "id": "5f162a05",
   "metadata": {},
   "source": [
    "## 2. Podemos afirmar que a taxa de conversão dos clientes é superior que 50%?"
   ]
  },
  {
   "cell_type": "markdown",
   "id": "20c4531e",
   "metadata": {},
   "source": [
    "**Hipóteses do Teste**\n",
    "\n",
    "- **H₀ (Hipótese nula):** A taxa de conversão na população **não é superior a 50%**. O valor observado pode ser explicado apenas pela variabilidade amostral (acaso na seleção da amostra).\n",
    "- **H₁ (Hipótese alternativa):** A taxa de conversão na população **é superior a 50%**.\n",
    "\n",
    "**Notação formal:**\n",
    "\n",
    "- H₀: p = po | (po = 50%)\n",
    "- H₁: p > po\n",
    "\n"
   ]
  },
  {
   "cell_type": "markdown",
   "id": "a4a723c9",
   "metadata": {},
   "source": [
    "### Modelo Paramétrico"
   ]
  },
  {
   "cell_type": "markdown",
   "id": "4ceb817b",
   "metadata": {},
   "source": [
    "<img src=\"img/e2.jpeg\" width=\"500\">"
   ]
  },
  {
   "cell_type": "code",
   "execution_count": 8,
   "id": "5ab47d11",
   "metadata": {},
   "outputs": [
    {
     "name": "stdout",
     "output_type": "stream",
     "text": [
      "alpha = 0.05\n"
     ]
    }
   ],
   "source": [
    "# Nível de significância do teste\n",
    "alpha = .05\n",
    "print(f\"alpha = {np.round(alpha, 2)}\")"
   ]
  },
  {
   "cell_type": "code",
   "execution_count": 9,
   "id": "d2c5deaa",
   "metadata": {},
   "outputs": [
    {
     "name": "stdout",
     "output_type": "stream",
     "text": [
      "p0 = 0.5\n"
     ]
    }
   ],
   "source": [
    "# Distribuição sob H0\n",
    "po = .5\n",
    "print(f\"p0 = {np.round(po, 2)}\")"
   ]
  },
  {
   "cell_type": "code",
   "execution_count": 10,
   "id": "529b5f87",
   "metadata": {},
   "outputs": [
    {
     "name": "stdout",
     "output_type": "stream",
     "text": [
      "True\n"
     ]
    }
   ],
   "source": [
    "# Validação de aproximação pela normal\n",
    "print((n*p0 >= 10) & (n*(1-p0) >= 10))"
   ]
  },
  {
   "cell_type": "code",
   "execution_count": 11,
   "id": "fb1dc2e1",
   "metadata": {},
   "outputs": [
    {
     "name": "stdout",
     "output_type": "stream",
     "text": [
      "Z_obs = 2.31\n"
     ]
    }
   ],
   "source": [
    "# Padronizando o valor observado\n",
    "Z_obs = (p_obs - po)/np.sqrt(po*(1-po)/n)\n",
    "print(f\"Z_obs = {np.round(Z_obs, 2)}\")"
   ]
  },
  {
   "cell_type": "code",
   "execution_count": 12,
   "id": "573085da",
   "metadata": {},
   "outputs": [
    {
     "name": "stdout",
     "output_type": "stream",
     "text": [
      "p-valor = 0.01 < α = 0.05 → Rejeitamos H0\n"
     ]
    }
   ],
   "source": [
    "# Calculando p_value (probabilidade do acaso gerar um valor tão extremo quanto o observado)\n",
    "p_value = 1 - norm.cdf(Z_obs)\n",
    "\n",
    "# Decisão\n",
    "if p_value < alpha:\n",
    "    print(f\"p-valor = {p_value:.2f} < α = {alpha} → Rejeitamos H0\")\n",
    "else:\n",
    "    print(f\"p-valor = {p_value:.2f} ≥ α = {alpha} → Não rejeitamos H0\")\n"
   ]
  },
  {
   "cell_type": "markdown",
   "id": "160e17f3",
   "metadata": {},
   "source": [
    "**Conclusão**\n",
    "\n",
    "- Ao nível de significância de 5% (probabilidade de rejeitar incorretamente a hipótese nula), temos evidência suficiente para rejeitar H₀ em favor de H₁.  \n",
    "Com isso, concluímos que a taxa de conversão dos clientes é **superior a 50%**.\n"
   ]
  },
  {
   "cell_type": "markdown",
   "id": "12d93445",
   "metadata": {},
   "source": [
    "## 3. Construa um intervalo de confiança de 95% para estimar a diferença na taxa de conversão entre os grupos B e D."
   ]
  },
  {
   "cell_type": "code",
   "execution_count": 13,
   "id": "cc012b94",
   "metadata": {},
   "outputs": [
    {
     "name": "stdout",
     "output_type": "stream",
     "text": [
      "nB = 75\n",
      "pB_obs = 0.63\n"
     ]
    }
   ],
   "source": [
    "# Grupo B: Teve cupom de desconto\n",
    "\n",
    "# Variável observada\n",
    "XB = base.loc[(base[\"grupo\"] == \"B\"), \"evento\"].values\n",
    "\n",
    "# Tamanho da amostra\n",
    "nB = XB.shape[0]\n",
    "\n",
    "# Proporção amostral observada\n",
    "pB_obs = XB.mean()\n",
    "\n",
    "print(f\"nB = {nB}\")\n",
    "print(f\"pB_obs = {np.round(pB_obs, 2)}\")"
   ]
  },
  {
   "cell_type": "code",
   "execution_count": 14,
   "id": "18eb3d46",
   "metadata": {},
   "outputs": [
    {
     "name": "stdout",
     "output_type": "stream",
     "text": [
      "nD = 75\n",
      "pD_obs = 0.61\n"
     ]
    }
   ],
   "source": [
    "# Grupo D: Teve cashback\n",
    "\n",
    "# Variável observada\n",
    "XD = base.loc[(base[\"grupo\"] == \"D\"), \"evento\"].values\n",
    "\n",
    "# Tamanho da amostra\n",
    "nD = XD.shape[0]\n",
    "\n",
    "# Proporção amostral observada\n",
    "pD_obs = XD.mean()\n",
    "\n",
    "print(f\"nD = {nD}\")\n",
    "print(f\"pD_obs = {np.round(pD_obs, 2)}\")"
   ]
  },
  {
   "cell_type": "code",
   "execution_count": 15,
   "id": "b789fa58",
   "metadata": {},
   "outputs": [
    {
     "name": "stdout",
     "output_type": "stream",
     "text": [
      "diff_B_D_obs = 0.01\n"
     ]
    }
   ],
   "source": [
    "# Diferença observada\n",
    "diff_B_D_obs = pB_obs - pD_obs\n",
    "print(f\"diff_B_D_obs = {np.round(diff_B_D_obs, 2)}\")"
   ]
  },
  {
   "cell_type": "markdown",
   "id": "917907fd",
   "metadata": {},
   "source": [
    "### Modelo Paramétrico"
   ]
  },
  {
   "cell_type": "markdown",
   "id": "e080b4ac",
   "metadata": {},
   "source": [
    "<img src=\"img/e3a.jpeg\" width=\"500\">"
   ]
  },
  {
   "cell_type": "markdown",
   "id": "f7c12fc3",
   "metadata": {},
   "source": [
    "<img src=\"img/e3b.jpeg\" width=\"500\">"
   ]
  },
  {
   "cell_type": "code",
   "execution_count": 16,
   "id": "6b7a13fa",
   "metadata": {},
   "outputs": [
    {
     "name": "stdout",
     "output_type": "stream",
     "text": [
      "True\n"
     ]
    }
   ],
   "source": [
    "# Melhor estimativa para pB\n",
    "pB = pB_obs\n",
    "\n",
    "# Validação de aproximação pela normal\n",
    "print((nB*pB >= 10) & (nB*(1-pB) >= 10))"
   ]
  },
  {
   "cell_type": "code",
   "execution_count": 17,
   "id": "10d2303d",
   "metadata": {},
   "outputs": [
    {
     "name": "stdout",
     "output_type": "stream",
     "text": [
      "True\n"
     ]
    }
   ],
   "source": [
    "# Melhor estimativa para pD\n",
    "pD = pD_obs\n",
    "\n",
    "# Validação de aproximação pela normal\n",
    "print((nD*pD >= 10) & (nD*(1-pD) >= 10))"
   ]
  },
  {
   "cell_type": "code",
   "execution_count": 18,
   "id": "30cdb04e",
   "metadata": {},
   "outputs": [
    {
     "name": "stdout",
     "output_type": "stream",
     "text": [
      "SE = 0.08\n"
     ]
    }
   ],
   "source": [
    "# Erro Padrão\n",
    "SE = np.sqrt(pB*(1-pB)/nB + pD*(1-pD)/nD)\n",
    "print(f\"SE = {np.round(SE, 2)}\")"
   ]
  },
  {
   "cell_type": "code",
   "execution_count": 19,
   "id": "8d2c5e33",
   "metadata": {},
   "outputs": [
    {
     "name": "stdout",
     "output_type": "stream",
     "text": [
      "Zc = 1.96\n"
     ]
    }
   ],
   "source": [
    "# Obtenção do Zc\n",
    "gama = .95\n",
    "q    = (1- gama)/2 + gama\n",
    "Zc   = norm.ppf(q=q)\n",
    "print(f\"Zc = {np.round(Zc, 2)}\")"
   ]
  },
  {
   "cell_type": "code",
   "execution_count": 20,
   "id": "1d73023b",
   "metadata": {},
   "outputs": [
    {
     "name": "stdout",
     "output_type": "stream",
     "text": [
      "IC = [-0.14, 0.17]\n",
      "IC = 0.01 +- 1.96 * 0.08\n"
     ]
    }
   ],
   "source": [
    "# Intervalo de confiança\n",
    "d0 = diff_B_D_obs - Zc*SE\n",
    "d1 = diff_B_D_obs + Zc*SE\n",
    "print(f\"IC = [{np.round(d0, 2)}, {np.round(d1, 2)}]\")\n",
    "print(f\"IC = {np.round(diff_B_D_obs, 2)} +- {np.round(Zc, 2)} * {np.round(SE, 2)}\")"
   ]
  },
  {
   "cell_type": "markdown",
   "id": "67a7fd36",
   "metadata": {},
   "source": [
    "**Conclusão**\n",
    "\n",
    "- Com **95% de confiança**, estimamos que a diferença populacional nas taxas de conversão entre os grupos B e D (pB - pD) esteja entre **-14 p.p. e 17 p.p.**\n",
    "- Em outras palavras, acreditamos que a taxa de conversão do grupo B pode ser até 14 pontos percentuais **menor** ou até 17 pontos percentuais **maior** do que a do grupo D."
   ]
  },
  {
   "cell_type": "markdown",
   "id": "97f9ce09",
   "metadata": {},
   "source": [
    "## 4. Podemos concluir que a taxa de conversão nos grupos B e D são diferentes?"
   ]
  },
  {
   "cell_type": "markdown",
   "id": "5ec113e1",
   "metadata": {},
   "source": [
    "O resultado apresentado no item 3 já responde à pergunta: com **95% de confiança**, estimamos que a diferença populacional nas taxas de conversão entre os grupos B e D (pB - pD) esteja entre **-14 p.p. e 17 p.p.**\n",
    "\n",
    "Como esse intervalo inclui o valor **0**, **não temos evidência estatística suficiente** para concluir que existe uma diferença significativa entre as taxas de conversão dos dois grupos, ao nível de significância de 5%.\n",
    "\n",
    "Além disso, a realização de um **teste de hipótese** formal para a diferença entre proporções levaria à **mesma conclusão**, reforçando que não há evidência de diferença estatisticamente significativa — o que faremos na sequência."
   ]
  },
  {
   "cell_type": "markdown",
   "id": "08c36325",
   "metadata": {},
   "source": [
    "**Hipóteses do Teste**\n",
    "\n",
    "- **H₀ (Hipótese nula):** Não há diferença na taxa de conversão entre os grupos B e D. A diferença observada pode ser atribuída à variabilidade amostral (isto é, ao acaso na seleção da amostra).\n",
    "- **H₁ (Hipótese alternativa):** Existe uma diferença real entre as taxas de conversão dos grupos B e D.\n",
    "\n",
    "**Notação formal:**\n",
    "\n",
    "- H₀: pB - pD = do | (do = 0)\n",
    "- H₁: pB - pD != do\n",
    "\n"
   ]
  },
  {
   "cell_type": "markdown",
   "id": "ead43f3e",
   "metadata": {},
   "source": [
    "### Modelo Paramétrico"
   ]
  },
  {
   "cell_type": "markdown",
   "id": "ee868616",
   "metadata": {},
   "source": [
    "<img src=\"img/e4.jpeg\" width=\"500\">"
   ]
  },
  {
   "cell_type": "code",
   "execution_count": 21,
   "id": "701545ea",
   "metadata": {},
   "outputs": [
    {
     "name": "stdout",
     "output_type": "stream",
     "text": [
      "alpha = 0.05\n"
     ]
    }
   ],
   "source": [
    "# Nível de significância do teste\n",
    "alpha = .05\n",
    "print(f\"alpha = {np.round(alpha, 2)}\")"
   ]
  },
  {
   "cell_type": "code",
   "execution_count": 22,
   "id": "bd8d1047",
   "metadata": {},
   "outputs": [
    {
     "name": "stdout",
     "output_type": "stream",
     "text": [
      "p0 = 0.62\n"
     ]
    }
   ],
   "source": [
    "# Distribuição sob H0\n",
    "po = (nB * pB_obs + nD * pD_obs) / (nB + nD)\n",
    "print(f\"p0 = {np.round(po, 2)}\")"
   ]
  },
  {
   "cell_type": "code",
   "execution_count": 23,
   "id": "1f0c5eb6",
   "metadata": {},
   "outputs": [
    {
     "name": "stdout",
     "output_type": "stream",
     "text": [
      "True\n",
      "True\n"
     ]
    }
   ],
   "source": [
    "# Validação de aproximação pela normal\n",
    "print((nB*p0 >= 10) & (nB*(1-p0) >= 10))\n",
    "print((nD*p0 >= 10) & (nD*(1-p0) >= 10))"
   ]
  },
  {
   "cell_type": "code",
   "execution_count": 24,
   "id": "a8c343b3",
   "metadata": {},
   "outputs": [
    {
     "name": "stdout",
     "output_type": "stream",
     "text": [
      "Z_obs = 0.17\n"
     ]
    }
   ],
   "source": [
    "# Padronizando o valor observado\n",
    "Z_obs = (pB_obs - pD_obs)/np.sqrt((po*(1-po)/nB) + (po*(1-po)/nD)) \n",
    "print(f\"Z_obs = {np.round(Z_obs, 2)}\")"
   ]
  },
  {
   "cell_type": "code",
   "execution_count": 25,
   "id": "c77df5d0",
   "metadata": {},
   "outputs": [
    {
     "name": "stdout",
     "output_type": "stream",
     "text": [
      "p-valor = 0.87 ≥ α = 0.05 → Não rejeitamos H0\n"
     ]
    }
   ],
   "source": [
    "# Calculando p_value (probabilidade do acaso gerar um valor tão extremo quanto o observado)\n",
    "p_value = norm.cdf(-Z_obs) + (1 - norm.cdf(Z_obs))\n",
    "\n",
    "# Decisão\n",
    "if p_value < alpha:\n",
    "    print(f\"p-valor = {p_value:.2f} < α = {alpha} → Rejeitamos H0\")\n",
    "else:\n",
    "    print(f\"p-valor = {p_value:.2f} ≥ α = {alpha} → Não rejeitamos H0\")"
   ]
  },
  {
   "cell_type": "markdown",
   "id": "8da4431f",
   "metadata": {},
   "source": [
    "**Conclusão**\n",
    "\n",
    "- Ao nível de significância de 5%, não encontramos evidência estatística suficiente para rejeitar H₀ em favor de H₁.  \n",
    "Com isso, não podemos concluir que exista diferença significativa nas taxas de conversão entre os grupos B e D."
   ]
  },
  {
   "cell_type": "markdown",
   "id": "fdc74572",
   "metadata": {},
   "source": [
    "## 5. A taxa de conversão (`evento`) está associada ao tipo de campanha (`grupo`)?"
   ]
  },
  {
   "cell_type": "markdown",
   "id": "1169cfdc",
   "metadata": {},
   "source": [
    "### Modelo Paramétrico"
   ]
  },
  {
   "cell_type": "markdown",
   "id": "da81b6d2",
   "metadata": {},
   "source": [
    "<img src=\"img/e5a.jpeg\" width=\"500\">\n",
    "<img src=\"img/e5b.jpeg\" width=\"500\">"
   ]
  },
  {
   "cell_type": "code",
   "execution_count": 26,
   "id": "f240d4b7",
   "metadata": {},
   "outputs": [
    {
     "data": {
      "text/html": [
       "<div>\n",
       "<style scoped>\n",
       "    .dataframe tbody tr th:only-of-type {\n",
       "        vertical-align: middle;\n",
       "    }\n",
       "\n",
       "    .dataframe tbody tr th {\n",
       "        vertical-align: top;\n",
       "    }\n",
       "\n",
       "    .dataframe thead th {\n",
       "        text-align: right;\n",
       "    }\n",
       "</style>\n",
       "<table border=\"1\" class=\"dataframe\">\n",
       "  <thead>\n",
       "    <tr style=\"text-align: right;\">\n",
       "      <th>col_0</th>\n",
       "      <th>0</th>\n",
       "      <th>1</th>\n",
       "    </tr>\n",
       "    <tr>\n",
       "      <th>row_0</th>\n",
       "      <th></th>\n",
       "      <th></th>\n",
       "    </tr>\n",
       "  </thead>\n",
       "  <tbody>\n",
       "    <tr>\n",
       "      <th>A</th>\n",
       "      <td>40</td>\n",
       "      <td>35</td>\n",
       "    </tr>\n",
       "    <tr>\n",
       "      <th>B</th>\n",
       "      <td>28</td>\n",
       "      <td>47</td>\n",
       "    </tr>\n",
       "    <tr>\n",
       "      <th>C</th>\n",
       "      <td>33</td>\n",
       "      <td>42</td>\n",
       "    </tr>\n",
       "    <tr>\n",
       "      <th>D</th>\n",
       "      <td>29</td>\n",
       "      <td>46</td>\n",
       "    </tr>\n",
       "  </tbody>\n",
       "</table>\n",
       "</div>"
      ],
      "text/plain": [
       "col_0   0   1\n",
       "row_0        \n",
       "A      40  35\n",
       "B      28  47\n",
       "C      33  42\n",
       "D      29  46"
      ]
     },
     "execution_count": 26,
     "metadata": {},
     "output_type": "execute_result"
    }
   ],
   "source": [
    "# Resultado Observado\n",
    "X = base[\"evento\"].values\n",
    "Y = base[\"grupo\"].values\n",
    "\n",
    "obs = pd.crosstab(Y, X)\n",
    "obs"
   ]
  },
  {
   "cell_type": "code",
   "execution_count": 27,
   "id": "5db91664",
   "metadata": {},
   "outputs": [
    {
     "data": {
      "text/html": [
       "<div>\n",
       "<style scoped>\n",
       "    .dataframe tbody tr th:only-of-type {\n",
       "        vertical-align: middle;\n",
       "    }\n",
       "\n",
       "    .dataframe tbody tr th {\n",
       "        vertical-align: top;\n",
       "    }\n",
       "\n",
       "    .dataframe thead th {\n",
       "        text-align: right;\n",
       "    }\n",
       "</style>\n",
       "<table border=\"1\" class=\"dataframe\">\n",
       "  <thead>\n",
       "    <tr style=\"text-align: right;\">\n",
       "      <th></th>\n",
       "      <th>0</th>\n",
       "      <th>1</th>\n",
       "    </tr>\n",
       "  </thead>\n",
       "  <tbody>\n",
       "    <tr>\n",
       "      <th>0</th>\n",
       "      <td>32.5</td>\n",
       "      <td>42.5</td>\n",
       "    </tr>\n",
       "    <tr>\n",
       "      <th>1</th>\n",
       "      <td>32.5</td>\n",
       "      <td>42.5</td>\n",
       "    </tr>\n",
       "    <tr>\n",
       "      <th>2</th>\n",
       "      <td>32.5</td>\n",
       "      <td>42.5</td>\n",
       "    </tr>\n",
       "    <tr>\n",
       "      <th>3</th>\n",
       "      <td>32.5</td>\n",
       "      <td>42.5</td>\n",
       "    </tr>\n",
       "  </tbody>\n",
       "</table>\n",
       "</div>"
      ],
      "text/plain": [
       "      0     1\n",
       "0  32.5  42.5\n",
       "1  32.5  42.5\n",
       "2  32.5  42.5\n",
       "3  32.5  42.5"
      ]
     },
     "execution_count": 27,
     "metadata": {},
     "output_type": "execute_result"
    }
   ],
   "source": [
    "# Resultado Esperado se X e Y não possuem relação\n",
    "\n",
    "# Fração 0's e 1's geral\n",
    "frac = (obs.sum()/obs.sum().sum()).values.reshape(1,2)\n",
    "\n",
    "# Soma por linha\n",
    "sum_by_row = obs.sum(axis=1).values.reshape(4,1)\n",
    "\n",
    "# Esperado\n",
    "exp = pd.DataFrame(np.matmul(sum_by_row, frac))\n",
    "exp"
   ]
  },
  {
   "cell_type": "code",
   "execution_count": 28,
   "id": "f251ac21",
   "metadata": {},
   "outputs": [
    {
     "name": "stdout",
     "output_type": "stream",
     "text": [
      "X2_obs = 4.83\n"
     ]
    }
   ],
   "source": [
    "# X2 observado\n",
    "obs = obs.values \n",
    "exp = exp.values\n",
    "X2_obs = (((obs - exp)**2)/exp).sum()\n",
    "print(f\"X2_obs = {np.round(X2_obs, 2)}\")"
   ]
  },
  {
   "cell_type": "markdown",
   "id": "415241cd",
   "metadata": {},
   "source": [
    "**Hipóteses do Teste (Qui-quadrado de independência)**\n",
    "\n",
    "- **H₀ (Hipótese nula):** Não há associação entre a taxa de conversão e o tipo de campanha. A diferença observada pode ser explicada apenas pela variabilidade amostral (isto é, pelo acaso).\n",
    "- **H₁ (Hipótese alternativa):** Existe uma associação entre a taxa de conversão e o tipo de campanha.\n"
   ]
  },
  {
   "cell_type": "code",
   "execution_count": 29,
   "id": "4a2b5137",
   "metadata": {},
   "outputs": [
    {
     "name": "stdout",
     "output_type": "stream",
     "text": [
      "df = 3\n",
      "p-valor = 0.18 ≥ α = 0.05 → Não rejeitamos H0\n"
     ]
    }
   ],
   "source": [
    "# Construção da distribuição sob H0: Como as premissas abaixo são satisfeitas, podemos avaliar qual a probabilidade do acaso \n",
    "# produzir um valor tão extremo quanto X2_obs em uma distribuição Qui Quadrado (variáveis sem relação)\n",
    "# a. As observações são independentes\n",
    "# b. Supondo que não haja relação entre as variáveis\n",
    "# c. Pelo menos 80% das células da tabela esperada possuem valores >= 5\n",
    "# d. Nenhuma célula com valor esperado < 1\n",
    "\n",
    "# Graus de liberdade\n",
    "r = obs.shape[0]\n",
    "c = obs.shape[1]\n",
    "df = (r - 1) * (c - 1)\n",
    "print(f\"df = {np.round(df, 2)}\")\n",
    "\n",
    "# Calculando p_value (probabilidade do acaso gerar um valor tão extremo quanto o observado)\n",
    "# P(X2 >= X2_obs)\n",
    "p_value = 1 - chi2.cdf(X2_obs, df)\n",
    "\n",
    "# Decisão\n",
    "if p_value < alpha:\n",
    "    print(f\"p-valor = {p_value:.2f} < α = {alpha} → Rejeitamos H0\")\n",
    "else:\n",
    "    print(f\"p-valor = {p_value:.2f} ≥ α = {alpha} → Não rejeitamos H0\")"
   ]
  },
  {
   "cell_type": "markdown",
   "id": "3f617324",
   "metadata": {},
   "source": [
    "**Conclusão**\n",
    "\n",
    "- Ao nível de significância de 5%, **não encontramos evidência estatística suficiente para rejeitar H₀ em favor de H₁**.  \n",
    "Dessa forma, **não há evidência de associação entre a ocorrência do evento (ex: conversão) e o tipo de campanha aplicada**.\n"
   ]
  },
  {
   "cell_type": "markdown",
   "id": "06485055",
   "metadata": {},
   "source": [
    "## 6. Construa um intervalo de confiança de 95% para estimar o valor médio de compra (`score`) de todos os clientes."
   ]
  },
  {
   "cell_type": "code",
   "execution_count": 30,
   "id": "1b7a3e1d",
   "metadata": {},
   "outputs": [
    {
     "name": "stdout",
     "output_type": "stream",
     "text": [
      "n = 170\n",
      "x_obs = 77.16\n",
      "s = 13.52\n"
     ]
    }
   ],
   "source": [
    "# Variável observada: Somente clientes que realizaram alguma compra\n",
    "X = base.loc[base[\"evento\"] == 1, \"score\"].values\n",
    "\n",
    "# Tamanho da amostra\n",
    "n = X.shape[0]\n",
    "\n",
    "# Média amostral observada\n",
    "x_obs = X.mean()\n",
    "\n",
    "# Desvio padrão amostral\n",
    "s = X.std(ddof=1)\n",
    "\n",
    "print(f\"n = {n}\")\n",
    "print(f\"x_obs = {np.round(x_obs, 2)}\")\n",
    "print(f\"s = {np.round(s, 2)}\")"
   ]
  },
  {
   "cell_type": "markdown",
   "id": "10a1ba46",
   "metadata": {},
   "source": [
    "### Modelo Paramétrico"
   ]
  },
  {
   "cell_type": "markdown",
   "id": "5df064de",
   "metadata": {},
   "source": [
    "<img src=\"img/e6a.jpeg\" width=\"500\">\n",
    "<img src=\"img/e6b.jpeg\" width=\"500\">"
   ]
  },
  {
   "cell_type": "code",
   "execution_count": 31,
   "id": "18fea7fa",
   "metadata": {},
   "outputs": [
    {
     "name": "stdout",
     "output_type": "stream",
     "text": [
      "SE = 1.04\n",
      "tc = 1.97\n",
      "IC = [75.11, 79.21]\n",
      "IC = 77.16 +- 1.97 * 1.04\n"
     ]
    }
   ],
   "source": [
    "# Quando o tamanho da amostra é grande, o Teorema Central do Limite permite aproximar a distribuição da média amostral por uma normal.\n",
    "# No entanto, como a variância populacional é desconhecida, usamos a variância amostral como estimativa.\n",
    "# Isso introduz variabilidade adicional na estatística de teste, razão pela qual usamos a distribuição t de Student em vez da normal padrão.\n",
    "\n",
    "# Erro Padrão\n",
    "SE = np.sqrt((s**2)/n)\n",
    "print(f\"SE = {np.round(SE, 2)}\")\n",
    "\n",
    "# Obtenção do tc\n",
    "gama = .95\n",
    "q    = (1- gama)/2 + gama\n",
    "df   = n -1\n",
    "tc   = t.ppf(df = df, q=q)\n",
    "print(f\"tc = {np.round(tc, 2)}\")\n",
    "\n",
    "# Intervalo de confiança\n",
    "x0 = x_obs - tc*SE\n",
    "x1 = x_obs + tc*SE\n",
    "print(f\"IC = [{np.round(x0, 2)}, {np.round(x1, 2)}]\")\n",
    "print(f\"IC = {np.round(x_obs, 2)} +- {np.round(tc, 2)} * {np.round(SE, 2)}\")"
   ]
  },
  {
   "cell_type": "markdown",
   "id": "5b040ecc",
   "metadata": {},
   "source": [
    "**Conclusão**\n",
    "\n",
    "- Temos **95% de confiança** de que o verdadeiro valor do score populacional u está entre **75,11 e 79,21**.  \n",
    "Em outras palavras, acreditamos que o **valor médio de compra da população** se encontra nesse intervalo com 95% de confiança.\n"
   ]
  },
  {
   "cell_type": "markdown",
   "id": "c91f2017",
   "metadata": {},
   "source": [
    "## 7. O valor médio de compra (`score`) de todos os clientes é maior que R$ 70?"
   ]
  },
  {
   "cell_type": "markdown",
   "id": "6b857f5f",
   "metadata": {},
   "source": [
    "**Hipóteses do Teste**\n",
    "\n",
    "- **H₀ (Hipótese nula):** O valor médio de compra **não é maior que 70 reais**. A média observada pode ser explicada apenas pela variabilidade amostral (isto é, pelo acaso na seleção da amostra).\n",
    "- **H₁ (Hipótese alternativa):** O valor médio de compra **é maior que 70 reais**.\n",
    "\n",
    "**Notação formal:**\n",
    "\n",
    "- H₀: u = uo | (uo = 70)\n",
    "- H₁: u > uo\n",
    "\n"
   ]
  },
  {
   "cell_type": "markdown",
   "id": "a4715bdb",
   "metadata": {},
   "source": [
    "### Modelo Paramétrico"
   ]
  },
  {
   "cell_type": "markdown",
   "id": "273084c9",
   "metadata": {},
   "source": [
    "<img src=\"img/e7.jpeg\" width=\"500\">"
   ]
  },
  {
   "cell_type": "code",
   "execution_count": 32,
   "id": "00b623c1",
   "metadata": {},
   "outputs": [
    {
     "name": "stdout",
     "output_type": "stream",
     "text": [
      "alpha = 0.05\n"
     ]
    }
   ],
   "source": [
    "# Nível de significância do teste\n",
    "alpha = .05\n",
    "print(f\"alpha = {np.round(alpha, 2)}\")"
   ]
  },
  {
   "cell_type": "code",
   "execution_count": 33,
   "id": "e088d5e7",
   "metadata": {},
   "outputs": [
    {
     "name": "stdout",
     "output_type": "stream",
     "text": [
      "uo = 70\n",
      "SE = 1.04\n",
      "t_obs = 6.9\n",
      "p-valor = 0.00 < α = 0.05 → Rejeitamos H0\n"
     ]
    }
   ],
   "source": [
    "# Distribuição sob H0\n",
    "# - Supondo uma população com uo = 70\n",
    "# - Com variância estimada igual a variancia amostral\n",
    "\n",
    "# Quando o tamanho da amostra é grande, o Teorema Central do Limite permite aproximar a distribuição da média amostral por uma normal.\n",
    "# No entanto, como a variância populacional é desconhecida, usamos a variância amostral como estimativa.\n",
    "# Isso introduz variabilidade adicional na estatística de teste, razão pela qual usamos a distribuição t de Student em vez da normal padrão.\n",
    "\n",
    "# u0\n",
    "uo = 70\n",
    "print(f\"uo = {np.round(uo, 2)}\")\n",
    "\n",
    "# Erro Padrão\n",
    "SE = np.sqrt((s**2)/n)\n",
    "print(f\"SE = {np.round(SE, 2)}\")\n",
    "\n",
    "# Obtenção do t_obs\n",
    "t_obs = (x_obs - uo)/SE\n",
    "print(f\"t_obs = {np.round(t_obs, 2)}\")\n",
    "\n",
    "# Calculando p_value (probabilidade do acaso gerar um valor tão extremo quanto o observado)\n",
    "# P(t >= t_obs)\n",
    "p_value = 1 - t.cdf(t_obs, df)\n",
    "\n",
    "# Decisão\n",
    "if p_value < alpha:\n",
    "    print(f\"p-valor = {p_value:.2f} < α = {alpha} → Rejeitamos H0\")\n",
    "else:\n",
    "    print(f\"p-valor = {p_value:.2f} ≥ α = {alpha} → Não rejeitamos H0\")"
   ]
  },
  {
   "cell_type": "markdown",
   "id": "e919968e",
   "metadata": {},
   "source": [
    "**Conclusão**\n",
    "\n",
    "- Ao nível de significância de 5% — ou seja, assumindo um risco de 5% de rejeitar incorretamente a hipótese nula —, encontramos **evidência estatística suficiente para rejeitar H₀ em favor de H₁**.  \n",
    "Dessa forma, **concluímos que o valor médio de compra é superior a 70 reais**."
   ]
  },
  {
   "cell_type": "markdown",
   "id": "9dbdd289",
   "metadata": {},
   "source": [
    "## 8. Construa um intervalo de confiança de 95% para estimar a diferença no valor médio de compra entre os grupos B e D."
   ]
  },
  {
   "cell_type": "markdown",
   "id": "cd93354d",
   "metadata": {},
   "source": [
    "### Modelo Paramétrico"
   ]
  },
  {
   "cell_type": "markdown",
   "id": "af27b076",
   "metadata": {},
   "source": [
    "<img src=\"img/e8a.jpeg\" width=\"500\">\n",
    "<img src=\"img/e8b.jpeg\" width=\"500\">"
   ]
  },
  {
   "cell_type": "code",
   "execution_count": 34,
   "id": "ce5793cf",
   "metadata": {},
   "outputs": [
    {
     "name": "stdout",
     "output_type": "stream",
     "text": [
      "nB = 47\n",
      "xB_obs = 76.52\n",
      "sB = 11.93\n"
     ]
    }
   ],
   "source": [
    "# Grupo B: Teve cupom de desconto\n",
    "\n",
    "# Variável observada: Somente clientes que realizaram alguma compra\n",
    "XB = base.loc[(base[\"evento\"] == 1) & (base[\"grupo\"] == \"B\"), \"score\"].values\n",
    "\n",
    "# Tamanho da amostra\n",
    "nB = XB.shape[0]\n",
    "\n",
    "# Média amostral observada\n",
    "xB_obs = XB.mean()\n",
    "\n",
    "# Desvio padrão amostral\n",
    "sB = XB.std(ddof=1)\n",
    "\n",
    "print(f\"nB = {nB}\")\n",
    "print(f\"xB_obs = {np.round(xB_obs, 2)}\")\n",
    "print(f\"sB = {np.round(sB, 2)}\")"
   ]
  },
  {
   "cell_type": "code",
   "execution_count": 35,
   "id": "1d588609",
   "metadata": {},
   "outputs": [
    {
     "name": "stdout",
     "output_type": "stream",
     "text": [
      "nD = 46\n",
      "xD_obs = 0.61\n",
      "sD = 11.28\n"
     ]
    }
   ],
   "source": [
    "# Grupo D: Teve cupom de desconto\n",
    "\n",
    "# Variável observada: Somente clientes que realizaram alguma compra\n",
    "XD = base.loc[(base[\"evento\"] == 1) & (base[\"grupo\"] == \"D\"), \"score\"].values\n",
    "\n",
    "# Tamanho da amostra\n",
    "nD = XD.shape[0]\n",
    "\n",
    "# Média amostral observada\n",
    "xD_obs = XD.mean()\n",
    "\n",
    "# Desvio padrão amostral\n",
    "sD = XD.std(ddof=1)\n",
    "\n",
    "print(f\"nD = {nD}\")\n",
    "print(f\"xD_obs = {np.round(pD_obs, 2)}\")\n",
    "print(f\"sD = {np.round(sD, 2)}\")"
   ]
  },
  {
   "cell_type": "code",
   "execution_count": 36,
   "id": "60c86dd4",
   "metadata": {},
   "outputs": [
    {
     "name": "stdout",
     "output_type": "stream",
     "text": [
      "diff_B_D_obs = -6.78\n"
     ]
    }
   ],
   "source": [
    "# Diferença observada\n",
    "diff_B_D_obs = xB_obs - xD_obs\n",
    "print(f\"diff_B_D_obs = {np.round(diff_B_D_obs, 2)}\")"
   ]
  },
  {
   "cell_type": "code",
   "execution_count": 37,
   "id": "dd6aa94b",
   "metadata": {},
   "outputs": [
    {
     "name": "stdout",
     "output_type": "stream",
     "text": [
      "SE = 2.41\n",
      "tc = 1.99\n",
      "IC = [-11.56, -2.0]\n",
      "IC = -6.78 +- 1.99 * 2.41\n"
     ]
    }
   ],
   "source": [
    "# Quando o tamanho da amostra é grande, o Teorema Central do Limite permite aproximar a distribuição da média amostral por uma normal.\n",
    "# No entanto, como a variância populacional é desconhecida, usamos a variância amostral como estimativa.\n",
    "# Isso introduz variabilidade adicional na estatística de teste, razão pela qual usamos a distribuição t de Student em vez da normal padrão.\n",
    "\n",
    "# Erro Padrão\n",
    "SE = np.sqrt((sB**2)/nB + (sD**2)/nD)\n",
    "print(f\"SE = {np.round(SE, 2)}\")\n",
    "\n",
    "# Obtenção do tc\n",
    "gama = .95\n",
    "q    = (1- gama)/2 + gama\n",
    "df   = (((sB**2)/nB + (sD**2)/nD)**2)/((((sB**2)/nB)**2)/(nB - 1) + (((sD**2)/nD)**2)/(nD - 1))\n",
    "tc   = t.ppf(df = df, q=q)\n",
    "print(f\"tc = {np.round(tc, 2)}\")\n",
    "\n",
    "# Intervalo de confiança\n",
    "d0 = diff_B_D_obs - tc*SE\n",
    "d1 = diff_B_D_obs + tc*SE\n",
    "print(f\"IC = [{np.round(d0, 2)}, {np.round(d1, 2)}]\")\n",
    "print(f\"IC = {np.round(diff_B_D_obs, 2)} +- {np.round(tc, 2)} * {np.round(SE, 2)}\")"
   ]
  },
  {
   "cell_type": "markdown",
   "id": "1cba44e5",
   "metadata": {},
   "source": [
    "**Conclusão**\n",
    "\n",
    "- Com **95% de confiança**, estimamos que a **diferença média no valor de compra entre os grupos B e D** está entre **−11,56 e −2,00**.\n",
    "- Em outras palavras, acreditamos que os clientes do grupo B gastam, em média, entre **2 e 11,56 unidades a menos** do que os do grupo D.\n"
   ]
  },
  {
   "cell_type": "markdown",
   "id": "1feb93da",
   "metadata": {},
   "source": [
    "## 9. Podemos afirmar que o grupo D gerou um valor médio de compra diferente do que o grupo B?"
   ]
  },
  {
   "cell_type": "markdown",
   "id": "9b07a823",
   "metadata": {},
   "source": [
    "**Hipóteses do Teste**\n",
    "\n",
    "- **H₀ (Hipótese nula):** Não há diferença no valor médio de compra entre os grupos B e D. Qualquer diferença observada pode ser explicada apenas pela variabilidade amostral (isto é, pelo acaso na seleção da amostra).\n",
    "- **H₁ (Hipótese alternativa):** Há diferença no valor médio de compra entre os grupos B e D.\n",
    "\n",
    "**Notação formal:**\n",
    "\n",
    "- H₀: uB - uD = do | (do = 0)\n",
    "- H₁: uB - uD != do"
   ]
  },
  {
   "cell_type": "markdown",
   "id": "360356a7",
   "metadata": {},
   "source": [
    "### Modelo Paramétrico"
   ]
  },
  {
   "cell_type": "markdown",
   "id": "a8088909",
   "metadata": {},
   "source": [
    "<img src=\"img/e9.jpeg\" width=\"500\">"
   ]
  },
  {
   "cell_type": "code",
   "execution_count": 38,
   "id": "e7ae8426",
   "metadata": {},
   "outputs": [
    {
     "name": "stdout",
     "output_type": "stream",
     "text": [
      "alpha = 0.05\n"
     ]
    }
   ],
   "source": [
    "# Nível de significância do teste\n",
    "alpha = .05\n",
    "print(f\"alpha = {np.round(alpha, 2)}\")"
   ]
  },
  {
   "cell_type": "code",
   "execution_count": 39,
   "id": "1682c9ae",
   "metadata": {},
   "outputs": [
    {
     "name": "stdout",
     "output_type": "stream",
     "text": [
      "do = 0\n",
      "SE = 2.41\n",
      "t_obs = -2.82\n",
      "p-valor = 0.01 < α = 0.05 → Rejeitamos H0\n"
     ]
    }
   ],
   "source": [
    "# Distribuição sob H0\n",
    "# - Supondo uma população com uB - uD = do = 0\n",
    "# - Com variância estimada sB**2/nB + sD**2/nD\n",
    "\n",
    "# Quando o tamanho da amostra é grande, o Teorema Central do Limite permite aproximar a distribuição da diferença da média amostral por uma normal.\n",
    "# No entanto, como a variância populacional é desconhecida, usamos a variância amostral como estimativa.\n",
    "# Isso introduz variabilidade adicional na estatística de teste, razão pela qual usamos a distribuição t de Student em vez da normal padrão.\n",
    "\n",
    "# do\n",
    "do = 0\n",
    "print(f\"do = {np.round(do, 2)}\")\n",
    "\n",
    "# Erro Padrão\n",
    "SE = np.sqrt((sB**2)/nB + (sD**2)/nD)\n",
    "print(f\"SE = {np.round(SE, 2)}\")\n",
    "\n",
    "# Obtenção do t_obs\n",
    "t_obs = diff_B_D_obs/SE\n",
    "print(f\"t_obs = {np.round(t_obs, 2)}\")\n",
    "\n",
    "# Calculando p_value (probabilidade do acaso gerar um valor tão extremo quanto o observado)\n",
    "# P(t >= t_obs)\n",
    "df      = (((sB**2)/nB + (sD**2)/nD)**2)/((((sB**2)/nB)**2)/(nB - 1) + (((sD**2)/nD)**2)/(nD - 1))\n",
    "p_value = t.cdf(t_obs, df)*2\n",
    "\n",
    "# Decisão\n",
    "if p_value < alpha:\n",
    "    print(f\"p-valor = {p_value:.2f} < α = {alpha} → Rejeitamos H0\")\n",
    "else:\n",
    "    print(f\"p-valor = {p_value:.2f} ≥ α = {alpha} → Não rejeitamos H0\")"
   ]
  },
  {
   "cell_type": "markdown",
   "id": "127f1d7e",
   "metadata": {},
   "source": [
    "**Conclusão**\n",
    "\n",
    "- Ao nível de significância de 5% — ou seja, assumindo um risco de 5% de rejeitar incorretamente a hipótese nula —, encontramos **evidência estatística suficiente para rejeitar H₀ em favor de H₁**.  \n",
    "- Dessa forma, **concluímos que há diferença significativa no valor médio de compra entre os grupos B e D**."
   ]
  }
 ],
 "metadata": {
  "kernelspec": {
   "display_name": "estudos",
   "language": "python",
   "name": "python3"
  },
  "language_info": {
   "codemirror_mode": {
    "name": "ipython",
    "version": 3
   },
   "file_extension": ".py",
   "mimetype": "text/x-python",
   "name": "python",
   "nbconvert_exporter": "python",
   "pygments_lexer": "ipython3",
   "version": "3.9.21"
  }
 },
 "nbformat": 4,
 "nbformat_minor": 5
}
