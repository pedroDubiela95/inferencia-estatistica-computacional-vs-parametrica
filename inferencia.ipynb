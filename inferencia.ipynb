{
 "cells": [
  {
   "cell_type": "markdown",
   "id": "098dddae",
   "metadata": {},
   "source": [
    "# Introdução\n",
    "\n",
    "## 📘 Sobre este Estudo\n",
    "\n",
    "Este notebook foi elaborado com fins **didáticos e demonstrativos** para mostrar como aplicar técnicas de **inferência estatística**, utilizando tanto métodos **clássicos (paramétricos)** quanto **computacionais** (como bootstrap e testes de aleatorização).\n",
    "\n",
    "---\n",
    "\n",
    "## 🛒 Contexto do Problema\n",
    "\n",
    "A empresa fictícia **RetailX**, uma varejista digital, lançou uma campanha para testar o impacto de diferentes estratégias promocionais sobre o comportamento de seus clientes. A empresa está especialmente interessada em entender:\n",
    "\n",
    "- Se as campanhas aumentam o engajamento no site\n",
    "- Se as campanhas influenciam a taxa de conversão (compra)\n",
    "- Se há impacto no valor total gasto\n",
    "\n",
    "Para isso, um experimento foi conduzido com **quatro grupos de clientes**, atribuídos aleatoriamente.\n",
    "\n",
    "---\n",
    "\n",
    "## 🎯 Objetivo do Estudo\n",
    "\n",
    "Avaliar se **diferentes tipos de campanha** geram **diferenças estatisticamente significativas** em:\n",
    "- Taxa de conversão (realizou compra ou não)\n",
    "- Valor de compra (gasto em reais)\n",
    "- Número de visitas ao site (antes e depois da campanha)\n",
    "---\n",
    "\n",
    "## 🧾 Descrição das Variáveis\n",
    "\n",
    "| Variável            | Tipo        | Descrição                                                                 |\n",
    "|---------------------|-------------|---------------------------------------------------------------------------|\n",
    "| `grupo`             | Categórica  | **Campanha recebida pelo cliente**:<br>• `A`: grupo **controle** (não recebeu estímulo)<br>• `B`: cupom de desconto<br>• `C`: frete grátis<br>• `D`: cashback |\n",
    "| `evento`            | Binária     | Indicador de conversão: o cliente **realizou uma compra?** (`1` = sim, `0` = não) |\n",
    "| `score`             | Contínua    | Valor total gasto pelo cliente (em reais) durante o período da campanha  |\n",
    "| `pre_treinamento`   | Contínua    | Número de visitas ao site **antes da campanha**                           |\n",
    "| `pos_treinamento`   | Contínua    | Número de visitas ao site **após a campanha**                             |\n",
    "\n",
    "---\n",
    "\n",
    "## 🧠 O que significa “grupo controle”?\n",
    "\n",
    "O grupo **controle** (`grupo = A`) é formado por clientes que **não receberam nenhuma campanha promocional**. Esse grupo serve como **referência neutra**, permitindo que possamos comparar com os demais grupos e **isolar o efeito da campanha**.\n",
    "\n",
    "> Exemplo: Se o grupo B (cupom) tiver maior conversão do que o grupo A (controle), é possível afirmar com maior confiança que o cupom teve impacto real — desde que a diferença seja estatisticamente significativa."
   ]
  },
  {
   "cell_type": "markdown",
   "id": "25bbb34b",
   "metadata": {},
   "source": [
    "# Análises"
   ]
  },
  {
   "cell_type": "code",
   "execution_count": 1,
   "id": "c8e4846d",
   "metadata": {},
   "outputs": [],
   "source": [
    "# SETUP\n",
    "import pandas as pd\n",
    "import numpy as np\n",
    "import matplotlib.pyplot as plt\n",
    "from scipy.stats import norm, t, f"
   ]
  },
  {
   "cell_type": "code",
   "execution_count": 2,
   "id": "b707478a",
   "metadata": {},
   "outputs": [
    {
     "data": {
      "text/html": [
       "<div>\n",
       "<style scoped>\n",
       "    .dataframe tbody tr th:only-of-type {\n",
       "        vertical-align: middle;\n",
       "    }\n",
       "\n",
       "    .dataframe tbody tr th {\n",
       "        vertical-align: top;\n",
       "    }\n",
       "\n",
       "    .dataframe thead th {\n",
       "        text-align: right;\n",
       "    }\n",
       "</style>\n",
       "<table border=\"1\" class=\"dataframe\">\n",
       "  <thead>\n",
       "    <tr style=\"text-align: right;\">\n",
       "      <th></th>\n",
       "      <th>grupo</th>\n",
       "      <th>evento</th>\n",
       "      <th>score</th>\n",
       "      <th>pre_treinamento</th>\n",
       "      <th>pos_treinamento</th>\n",
       "    </tr>\n",
       "  </thead>\n",
       "  <tbody>\n",
       "    <tr>\n",
       "      <th>0</th>\n",
       "      <td>A</td>\n",
       "      <td>0</td>\n",
       "      <td>0.00</td>\n",
       "      <td>6</td>\n",
       "      <td>6</td>\n",
       "    </tr>\n",
       "    <tr>\n",
       "      <th>1</th>\n",
       "      <td>A</td>\n",
       "      <td>1</td>\n",
       "      <td>70.68</td>\n",
       "      <td>4</td>\n",
       "      <td>4</td>\n",
       "    </tr>\n",
       "    <tr>\n",
       "      <th>2</th>\n",
       "      <td>A</td>\n",
       "      <td>1</td>\n",
       "      <td>60.23</td>\n",
       "      <td>6</td>\n",
       "      <td>6</td>\n",
       "    </tr>\n",
       "    <tr>\n",
       "      <th>3</th>\n",
       "      <td>A</td>\n",
       "      <td>1</td>\n",
       "      <td>102.16</td>\n",
       "      <td>8</td>\n",
       "      <td>8</td>\n",
       "    </tr>\n",
       "    <tr>\n",
       "      <th>4</th>\n",
       "      <td>A</td>\n",
       "      <td>0</td>\n",
       "      <td>0.00</td>\n",
       "      <td>1</td>\n",
       "      <td>2</td>\n",
       "    </tr>\n",
       "  </tbody>\n",
       "</table>\n",
       "</div>"
      ],
      "text/plain": [
       "  grupo  evento   score  pre_treinamento  pos_treinamento\n",
       "0     A       0    0.00                6                6\n",
       "1     A       1   70.68                4                4\n",
       "2     A       1   60.23                6                6\n",
       "3     A       1  102.16                8                8\n",
       "4     A       0    0.00                1                2"
      ]
     },
     "execution_count": 2,
     "metadata": {},
     "output_type": "execute_result"
    }
   ],
   "source": [
    "# LOAD: A base já está sanitizada.\n",
    "base = pd.read_excel(\"dados/base_retailx.xlsx\")\n",
    "base.head()"
   ]
  },
  {
   "cell_type": "markdown",
   "id": "f7a16c46",
   "metadata": {},
   "source": [
    "## 1. Construa um intervalo de confiança de 95% para estimar a proporção de clientes que realizaram compra."
   ]
  },
  {
   "cell_type": "code",
   "execution_count": 3,
   "id": "2dc8e5ad",
   "metadata": {},
   "outputs": [
    {
     "name": "stdout",
     "output_type": "stream",
     "text": [
      "n = 300\n",
      "p_obs = 0.57\n"
     ]
    }
   ],
   "source": [
    "# Variável observada\n",
    "X = base[\"evento\"].values\n",
    "\n",
    "# Tamanho da amostra\n",
    "n = X.shape[0]\n",
    "\n",
    "# Proporção amostral observada\n",
    "p_obs = X.mean()\n",
    "\n",
    "print(f\"n = {n}\")\n",
    "print(f\"p_obs = {np.round(p_obs, 2)}\")"
   ]
  },
  {
   "cell_type": "markdown",
   "id": "125524c9",
   "metadata": {},
   "source": [
    "### Modelo Matemático"
   ]
  },
  {
   "cell_type": "markdown",
   "id": "b1bda74f",
   "metadata": {},
   "source": [
    "<img src=\"img/e1.jpeg\" width=\"500\">\n",
    "<img src=\"img/e2.jpeg\" width=\"500\">"
   ]
  },
  {
   "cell_type": "code",
   "execution_count": 4,
   "id": "986dd0e6",
   "metadata": {},
   "outputs": [
    {
     "name": "stdout",
     "output_type": "stream",
     "text": [
      "True\n"
     ]
    }
   ],
   "source": [
    "# Melhor estimativa para p\n",
    "p = p_obs\n",
    "\n",
    "# Validação de aproximação pela normal\n",
    "print((n*p >= 10) & (n*(1-p) >= 10))"
   ]
  },
  {
   "cell_type": "code",
   "execution_count": 5,
   "id": "8c0c6033",
   "metadata": {},
   "outputs": [
    {
     "name": "stdout",
     "output_type": "stream",
     "text": [
      "SE = 0.03\n"
     ]
    }
   ],
   "source": [
    "# Erro Padrão\n",
    "SE = np.sqrt(p*(1-p)/n)\n",
    "print(f\"SE = {np.round(SE, 2)}\")"
   ]
  },
  {
   "cell_type": "code",
   "execution_count": 6,
   "id": "bb6038dc",
   "metadata": {},
   "outputs": [
    {
     "name": "stdout",
     "output_type": "stream",
     "text": [
      "Zc = 1.96\n"
     ]
    }
   ],
   "source": [
    "# Obtenção do Zc\n",
    "gama = .95\n",
    "q    = (1- gama)/2 + gama\n",
    "Zc   = norm.ppf(q=q)\n",
    "print(f\"Zc = {np.round(Zc, 2)}\")"
   ]
  },
  {
   "cell_type": "code",
   "execution_count": 7,
   "id": "705a4f22",
   "metadata": {},
   "outputs": [
    {
     "name": "stdout",
     "output_type": "stream",
     "text": [
      "IC = [0.51, 0.62]\n",
      "IC = 0.57 +- 1.96 * 0.03\n"
     ]
    }
   ],
   "source": [
    "# Intervalo de confiança\n",
    "p0 = p_obs - Zc*SE\n",
    "p1 = p_obs + Zc*SE\n",
    "print(f\"IC = [{np.round(p0, 2)}, {np.round(p1, 2)}]\")\n",
    "print(f\"IC = {np.round(p_obs, 2)} +- {np.round(Zc, 2)} * {np.round(SE, 2)}\")"
   ]
  },
  {
   "cell_type": "markdown",
   "id": "ef207458",
   "metadata": {},
   "source": [
    "**Conclusão**\n",
    "\n",
    "- Temos **95% de confiança** de que o verdadeiro valor da proporção populacional \\(p\\) está entre **51% e 62%**. Em outras palavras, acreditamos com 95% de confiança que a **taxa de conversão dos clientes dessa loja** se encontra nesse intervalo.\n",
    "\n",
    "- Essa confiança **não deve ser interpretada** como a probabilidade de que este intervalo específico contenha \\(p\\), pois o valor de \\(p\\) é fixo (embora desconhecido), e o intervalo é aleatório.\n",
    "\n",
    "- A interpretação correta é: Se repetíssemos esse mesmo processo de amostragem e construção de intervalo muitas vezes, em **95% dos casos** os intervalos obtidos conteriam o verdadeiro valor de \\(p\\).\n",
    "\n",
    "- Portanto, com base nessa confiança no processo, podemos selecionar **este único intervalo** e afirmar com **95% de confiança** que o verdadeiro valor de \\(p\\) está entre **51% e 62%**.\n"
   ]
  }
 ],
 "metadata": {
  "kernelspec": {
   "display_name": "estudos",
   "language": "python",
   "name": "python3"
  },
  "language_info": {
   "codemirror_mode": {
    "name": "ipython",
    "version": 3
   },
   "file_extension": ".py",
   "mimetype": "text/x-python",
   "name": "python",
   "nbconvert_exporter": "python",
   "pygments_lexer": "ipython3",
   "version": "3.9.21"
  }
 },
 "nbformat": 4,
 "nbformat_minor": 5
}
