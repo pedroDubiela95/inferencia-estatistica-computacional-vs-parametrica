{
 "cells": [
  {
   "cell_type": "markdown",
   "id": "098dddae",
   "metadata": {},
   "source": [
    "# Introdução\n",
    "\n",
    "## 📘 Sobre este Estudo\n",
    "\n",
    "Este notebook foi elaborado com fins **didáticos e demonstrativos** para mostrar como aplicar técnicas de **inferência estatística**, utilizando tanto métodos **clássicos (paramétricos)** quanto **computacionais** (como bootstrap e testes de aleatorização).\n",
    "\n",
    "---\n",
    "\n",
    "## 🛒 Contexto do Problema\n",
    "\n",
    "A empresa fictícia **RetailX**, uma varejista digital, lançou uma campanha para testar o impacto de diferentes estratégias promocionais sobre o comportamento de seus clientes. A empresa está especialmente interessada em entender:\n",
    "\n",
    "- Se as campanhas aumentam o engajamento no site\n",
    "- Se as campanhas influenciam a taxa de conversão (compra)\n",
    "- Se há impacto no valor total gasto\n",
    "\n",
    "Para isso, um experimento foi conduzido com **quatro grupos de clientes**, atribuídos aleatoriamente.\n",
    "\n",
    "---\n",
    "\n",
    "## 🎯 Objetivo do Estudo\n",
    "\n",
    "Avaliar se **diferentes tipos de campanha** geram **diferenças estatisticamente significativas** em:\n",
    "- Taxa de conversão (realizou compra ou não)\n",
    "- Valor de compra (gasto em reais)\n",
    "- Número de visitas ao site (antes e depois da campanha)\n",
    "---\n",
    "\n",
    "## 🧾 Descrição das Variáveis\n",
    "\n",
    "| Variável            | Tipo        | Descrição                                                                 |\n",
    "|---------------------|-------------|---------------------------------------------------------------------------|\n",
    "| `grupo`             | Categórica  | **Campanha recebida pelo cliente**:<br>• `A`: grupo **controle** (não recebeu estímulo)<br>• `B`: cupom de desconto<br>• `C`: frete grátis<br>• `D`: cashback |\n",
    "| `evento`            | Binária     | Indicador de conversão: o cliente **realizou uma compra?** (`1` = sim, `0` = não) |\n",
    "| `score`             | Contínua    | Valor total gasto pelo cliente (em reais) durante o período da campanha  |\n",
    "| `pre_treinamento`   | Contínua    | Número de visitas ao site **antes da campanha**                           |\n",
    "| `pos_treinamento`   | Contínua    | Número de visitas ao site **após a campanha**                             |\n",
    "\n",
    "---\n",
    "\n",
    "## 🧠 O que significa “grupo controle”?\n",
    "\n",
    "O grupo **controle** (`grupo = A`) é formado por clientes que **não receberam nenhuma campanha promocional**. Esse grupo serve como **referência neutra**, permitindo que possamos comparar com os demais grupos e **isolar o efeito da campanha**.\n",
    "\n",
    "> Exemplo: Se o grupo B (cupom) tiver maior conversão do que o grupo A (controle), é possível afirmar com maior confiança que o cupom teve impacto real — desde que a diferença seja estatisticamente significativa.\n",
    "\n",
    "---\n",
    "\n",
    "## ✅ Instruções de Análise\n",
    "\n",
    "Para cada uma das perguntas a seguir, faça quando aplicável:\n",
    "\n",
    "1. **Construa um intervalo de confiança de 95% para estimar a variabilidade da estatística obtida.**  \n",
    "2. **Interprete corretamente o intervalo de confiança obtido** e o que ele indica sobre a estimativa.  \n",
    "3. **Formule as hipóteses nula (H₀) e alternativa (Hₐ)** com base no problema proposto.  \n",
    "4. **Escolha o teste estatístico adequado**, considerando se o método será paramétrico ou computacional.  \n",
    "5. **Calcule a estatística de teste e o valor-p correspondente**, adotando um nível de significância de 5%.  \n",
    "6. **Analise o resultado no contexto de negócios:** o efeito observado parece real ou pode ser atribuído ao acaso?\n",
    "\n",
    "---\n"
   ]
  },
  {
   "cell_type": "markdown",
   "id": "25bbb34b",
   "metadata": {},
   "source": [
    "# Análises"
   ]
  },
  {
   "cell_type": "code",
   "execution_count": 1,
   "id": "c8e4846d",
   "metadata": {},
   "outputs": [],
   "source": [
    "# SETUP\n",
    "import pandas as pd\n",
    "import numpy as np\n",
    "import matplotlib.pyplot as plt\n",
    "from scipy.stats import norm, t, f"
   ]
  },
  {
   "cell_type": "code",
   "execution_count": 2,
   "id": "b707478a",
   "metadata": {},
   "outputs": [
    {
     "data": {
      "text/html": [
       "<div>\n",
       "<style scoped>\n",
       "    .dataframe tbody tr th:only-of-type {\n",
       "        vertical-align: middle;\n",
       "    }\n",
       "\n",
       "    .dataframe tbody tr th {\n",
       "        vertical-align: top;\n",
       "    }\n",
       "\n",
       "    .dataframe thead th {\n",
       "        text-align: right;\n",
       "    }\n",
       "</style>\n",
       "<table border=\"1\" class=\"dataframe\">\n",
       "  <thead>\n",
       "    <tr style=\"text-align: right;\">\n",
       "      <th></th>\n",
       "      <th>grupo</th>\n",
       "      <th>evento</th>\n",
       "      <th>score</th>\n",
       "      <th>pre_treinamento</th>\n",
       "      <th>pos_treinamento</th>\n",
       "    </tr>\n",
       "  </thead>\n",
       "  <tbody>\n",
       "    <tr>\n",
       "      <th>0</th>\n",
       "      <td>A</td>\n",
       "      <td>0</td>\n",
       "      <td>0.00</td>\n",
       "      <td>6</td>\n",
       "      <td>6</td>\n",
       "    </tr>\n",
       "    <tr>\n",
       "      <th>1</th>\n",
       "      <td>A</td>\n",
       "      <td>1</td>\n",
       "      <td>70.68</td>\n",
       "      <td>4</td>\n",
       "      <td>4</td>\n",
       "    </tr>\n",
       "    <tr>\n",
       "      <th>2</th>\n",
       "      <td>A</td>\n",
       "      <td>1</td>\n",
       "      <td>60.23</td>\n",
       "      <td>6</td>\n",
       "      <td>6</td>\n",
       "    </tr>\n",
       "    <tr>\n",
       "      <th>3</th>\n",
       "      <td>A</td>\n",
       "      <td>1</td>\n",
       "      <td>102.16</td>\n",
       "      <td>8</td>\n",
       "      <td>8</td>\n",
       "    </tr>\n",
       "    <tr>\n",
       "      <th>4</th>\n",
       "      <td>A</td>\n",
       "      <td>0</td>\n",
       "      <td>0.00</td>\n",
       "      <td>1</td>\n",
       "      <td>2</td>\n",
       "    </tr>\n",
       "  </tbody>\n",
       "</table>\n",
       "</div>"
      ],
      "text/plain": [
       "  grupo  evento   score  pre_treinamento  pos_treinamento\n",
       "0     A       0    0.00                6                6\n",
       "1     A       1   70.68                4                4\n",
       "2     A       1   60.23                6                6\n",
       "3     A       1  102.16                8                8\n",
       "4     A       0    0.00                1                2"
      ]
     },
     "execution_count": 2,
     "metadata": {},
     "output_type": "execute_result"
    }
   ],
   "source": [
    "# LOAD: A base já está sanitizada.\n",
    "base = pd.read_excel(\"dados/base_retailx.xlsx\")\n",
    "base.head()"
   ]
  },
  {
   "cell_type": "code",
   "execution_count": 3,
   "id": "9e1059a8",
   "metadata": {},
   "outputs": [
    {
     "data": {
      "text/plain": [
       "300"
      ]
     },
     "execution_count": 3,
     "metadata": {},
     "output_type": "execute_result"
    }
   ],
   "source": [
    "# Quantidade de amostras\n",
    "base.shape[0]"
   ]
  },
  {
   "cell_type": "markdown",
   "id": "9e9d258d",
   "metadata": {},
   "source": [
    "## 🔹 1. Intervalo de Confiança para Proporção\n",
    "\n",
    "> Construa um intervalo de confiança de 95% para estimar a proporção de clientes que realizaram compra."
   ]
  },
  {
   "cell_type": "code",
   "execution_count": 4,
   "id": "94e30643",
   "metadata": {},
   "outputs": [
    {
     "name": "stdout",
     "output_type": "stream",
     "text": [
      "p_obs = 0.57\n"
     ]
    }
   ],
   "source": [
    "# Amostra\n",
    "X = base[\"evento\"].values\n",
    "\n",
    "# Tamanho da amostra\n",
    "n = X.shape[0] \n",
    "\n",
    "# Proporção observada de clientes que realizaram alguma compra\n",
    "p_obs = X.mean()\n",
    "print(f\"p_obs = {np.round(p_obs,2)}\")"
   ]
  },
  {
   "cell_type": "markdown",
   "id": "8215ccae",
   "metadata": {},
   "source": [
    "### 💻 Computacional"
   ]
  },
  {
   "cell_type": "markdown",
   "id": "2cf57043",
   "metadata": {},
   "source": [
    "**Bootstrap:**\n",
    "\n",
    "Técnica utilizada para estimar a variabilidade de uma estatística, a partir da distribuição amostral da estatística obtida via reamostragem com reposição sobre uma única amostra disponível.\n",
    "A distribuição bootstrap é centrada na estatística observada na amostra original e permite, por exemplo, a construção de intervalos de confiança e avaliação da incerteza da estimativa."
   ]
  },
  {
   "cell_type": "code",
   "execution_count": 5,
   "id": "b65c18de",
   "metadata": {},
   "outputs": [],
   "source": [
    "# BOOTSTRAP\n",
    "\n",
    "# Reamostragem\n",
    "n_simu = 10_000 # 10 mil simulações\n",
    "stat_dist = []\n",
    "\n",
    "for _ in range(n_simu):\n",
    "\n",
    "    # Reamostra com reposição\n",
    "    X_boot = np.random.choice(X, size=n, replace=True)\n",
    "\n",
    "    # Estatistica\n",
    "    p_boot = X_boot.mean()\n",
    "    stat_dist.append(p_boot)\n",
    "\n",
    "\n",
    "# Calcular os percentis\n",
    "gama = 95\n",
    "stat_dist = np.array(stat_dist)\n",
    "percentile_l = np.percentile(stat_dist, (100 - gama)/2)\n",
    "percentile_r = np.percentile(stat_dist, gama + (100 - gama)/2)"
   ]
  },
  {
   "cell_type": "code",
   "execution_count": 6,
   "id": "d5477cb2",
   "metadata": {},
   "outputs": [
    {
     "data": {
      "image/png": "[encoded data removed]",
      "text/plain": [
       "<Figure size 1000x600 with 1 Axes>"
      ]
     },
     "metadata": {},
     "output_type": "display_data"
    },
    {
     "name": "stdout",
     "output_type": "stream",
     "text": [
      "IC_95 = [0.51: 0.623]\n"
     ]
    }
   ],
   "source": [
    "# Plotar histograma da distribuição bootstrap\n",
    "plt.figure(figsize=(10, 6))\n",
    "plt.hist(stat_dist, bins=50, edgecolor='black', alpha=0.7)\n",
    "\n",
    "# Linhas \n",
    "plt.axvline(percentile_l, color='red', linestyle='--', label=f'Percentil inferior ({percentile_l:.2f})') # Percentil inferior\n",
    "plt.axvline(p_obs, color='green', linestyle='--', label=f'Valor Observado ({p_obs:.2f})')                # Valor observado\n",
    "plt.axvline(percentile_r, color='red', linestyle='--', label=f'Percentil superior ({percentile_r:.2f})') # Percentil superior\n",
    "\n",
    "# Título e rótulos\n",
    "plt.title(f'Distribuição Bootstrap da Estatística – Nível de confiança = {gama}%')\n",
    "plt.xlabel('Estatística')\n",
    "plt.ylabel('Frequência')\n",
    "plt.legend()\n",
    "plt.grid(True)\n",
    "plt.show()\n",
    "print(f\"IC_95 = [{np.round(percentile_l, 3)}: {np.round(percentile_r, 3)}]\")"
   ]
  },
  {
   "cell_type": "markdown",
   "id": "a087f325",
   "metadata": {},
   "source": [
    "**Interpretação do Intervalo obtido:**\n",
    "- Podemos afirmar com 95% de confiança que o verdadeiro valor do parâmetro populacional está entre os percentis inferior e superior do intervalo de confiança construído, conforme indicado no histograma acima.\n",
    "\n",
    "- Importante: essa confiança não deve ser interpretada como a probabilidade de o parâmetro estar dentro deste intervalo específico, mas sim da seguinte forma:\n",
    "    > Se este mesmo experimento (coletar outras amostras sob as mesmas condições) fosse repetido muitas vezes, e em cada repetição fosse construído um intervalo de confiança da mesma forma, então aproximadamente 95% desses intervalos conteriam o verdadeiro valor do parâmetro populacional.\n",
    "    > Portanto, com base na confiança que temos no processo de construção do intervalo, estamos 95% confiantes de que este intervalo específico contém o valor verdadeiro do parâmetro."
   ]
  },
  {
   "cell_type": "markdown",
   "id": "0fbb9238",
   "metadata": {},
   "source": [
    "### 📊 Modelo Estatístico\n",
    "\n",
    "Suposições que devem ser atendidas:\n",
    "- A variável observada é binária.\n",
    "- Cada observação é independente e igualmente distribuída (i.i.d).\n",
    "    - O valor de uma observação não influência na outra.\n",
    "    - Probabilidade de sucesso é constante.\n",
    "- O número de observações (n) é fixo e conhecido.\n",
    "- Podemos aproximar a disitribuição amostral pela normal através do TCL (Teorema Central do Limite) quando:\n",
    "    - np >= 10 \n",
    "    - n(1-p) >=10"
   ]
  },
  {
   "cell_type": "markdown",
   "id": "7eba9c8a",
   "metadata": {},
   "source": [
    "Deduções:"
   ]
  },
  {
   "cell_type": "markdown",
   "id": "376df1b6",
   "metadata": {},
   "source": [
    "<img src=\"img/1.dist_proporcao.jpeg\" width=\"500\">\n",
    "<img src=\"img/2.ic_proporcao.jpeg\" width=\"500\">\n"
   ]
  },
  {
   "cell_type": "code",
   "execution_count": 7,
   "id": "2085d76f",
   "metadata": {},
   "outputs": [
    {
     "name": "stdout",
     "output_type": "stream",
     "text": [
      "np = 170.0 >= 10 OK\n",
      "n(1-p) = 130.0 >= 10 OK\n"
     ]
    }
   ],
   "source": [
    "# Melhor estimativa para p\n",
    "p = p_obs      \n",
    "\n",
    "# Avaliando condições para aproximar pela normal\n",
    "print(f\"np = {n*p} >= 10 OK\")\n",
    "print(f\"n(1-p) = {n*(1-p)} >= 10 OK\")"
   ]
  },
  {
   "cell_type": "code",
   "execution_count": 8,
   "id": "bd6da68d",
   "metadata": {},
   "outputs": [
    {
     "name": "stdout",
     "output_type": "stream",
     "text": [
      "SE = 0.02860976264351941\n"
     ]
    }
   ],
   "source": [
    "# Obtendo o erro padrão da estatística (desvio padrão da distribuição da estatística)\n",
    "SE = np.sqrt(p*(1-p)/n)\n",
    "print(f\"SE = {SE}\")"
   ]
  },
  {
   "cell_type": "code",
   "execution_count": 9,
   "id": "448e4632",
   "metadata": {},
   "outputs": [
    {
     "name": "stdout",
     "output_type": "stream",
     "text": [
      "Zc = 1.959963984540054\n"
     ]
    }
   ],
   "source": [
    "# Obtendo valor crítico na distribuição normal padrão\n",
    "Zc = norm.ppf(0.975)\n",
    "print(f\"Zc = {Zc}\")"
   ]
  },
  {
   "cell_type": "code",
   "execution_count": 10,
   "id": "db362e02",
   "metadata": {},
   "outputs": [
    {
     "name": "stdout",
     "output_type": "stream",
     "text": [
      "IC_95 = [0.51: 0.62]\n"
     ]
    }
   ],
   "source": [
    "# Obtendo o IC\n",
    "p0 = p - Zc*SE\n",
    "p1 = p + Zc*SE\n",
    "print(f\"IC_95 = [{np.round(p0, 2)}: {np.round(p1, 2)}]\")"
   ]
  },
  {
   "cell_type": "code",
   "execution_count": 11,
   "id": "b8c8ee7b",
   "metadata": {},
   "outputs": [
    {
     "name": "stdout",
     "output_type": "stream",
     "text": [
      "IC_95 = [0.51: 0.62]\n"
     ]
    }
   ],
   "source": [
    "# Obtendo o IC sem usar a padronização\n",
    "print(f\"IC_95 = [{np.round(norm.ppf(0.025, loc=p, scale=SE), 2)}: {np.round(norm.ppf(0.975, loc = p, scale=SE), 2)}]\")"
   ]
  },
  {
   "cell_type": "markdown",
   "id": "252c3807",
   "metadata": {},
   "source": [
    "O que fizemos foi selecionar 95% dos dados centrais da distribuição amostral da estatística de interesse, a qual foi aproximada por uma distribuição normal, centrada em p_obs."
   ]
  },
  {
   "cell_type": "markdown",
   "id": "a2f6150f",
   "metadata": {},
   "source": [
    "## 🔹 2. Teste de Hipótese para Proporção\n",
    "\n",
    "> A taxa de conversão geral (proporção de clientes que compraram) é maior que 50%?"
   ]
  },
  {
   "cell_type": "markdown",
   "id": "45a0e8b8",
   "metadata": {},
   "source": [
    "🧪 Hipóteses do Teste\n",
    "\n",
    "- H₀:  A taxa de conversão **não é maior** que 50%. O valor observado de 57% seria, nesse caso, apenas fruto do acaso.  \n",
    "- Hₐ: A taxa de conversão **é maior** que 50%.  \n",
    "\n",
    "Formalmente:\n",
    "- H₀: *p* = 50%\n",
    "- Hₐ: *p* > 50%\n",
    "\n",
    "O teste consiste em avaliar **quão provável seria observar um valor tão extremo quanto p_obs = 57%**, assumindo que a hipótese nula (H₀: *p* = 50%) seja verdadeira.\n"
   ]
  },
  {
   "cell_type": "markdown",
   "id": "3d0554de",
   "metadata": {},
   "source": [
    "### 💻 Computacional"
   ]
  },
  {
   "cell_type": "markdown",
   "id": "546bb629",
   "metadata": {},
   "source": [
    "**Bootstrap:**\n",
    "\n",
    "Assumindo a hipótese nula (H₀) como verdadeira — ou seja, que a proporção populacional é *p* = 50%:\n",
    "\n",
    "- Coletamos uma amostra aleatória de tamanho *n* = 300 elementos e proporção amostral igual a 50%.  \n",
    "- A partir dessa amostra representativa da população com *p* = 50%, aplicamos o método de **bootstrap** para gerar uma distribuição amostral da proporção.  \n",
    "- Essa distribuição reflete a **variabilidade da proporção amostral esperada apenas pelo acaso**, sob a suposição de que H₀ é verdadeira.\n"
   ]
  },
  {
   "cell_type": "code",
   "execution_count": 12,
   "id": "8fa70ab7",
   "metadata": {},
   "outputs": [],
   "source": [
    "# BOOTSTRAP\n",
    "\n",
    "# Reamostragem\n",
    "n_simu = 10_000 # 10 mil simulações\n",
    "stat_dist = []\n",
    "\n",
    "for _ in range(n_simu):\n",
    "\n",
    "    # Reamostra com reposição\n",
    "    X_boot = np.random.choice(np.array([0]*150 + [1]*150), size=n, replace=True)\n",
    "\n",
    "    # Estatistica\n",
    "    p_boot = X_boot.mean()\n",
    "    stat_dist.append(p_boot)\n",
    "\n",
    "\n",
    "# Calcular os percentis\n",
    "alpha = 0.05\n",
    "gama = 1 - alpha\n",
    "stat_dist = np.array(stat_dist)\n",
    "percentile_l = np.percentile(stat_dist, (100 - gama)/2)\n",
    "percentile_r = np.percentile(stat_dist, gama + (100 - gama)/2)"
   ]
  },
  {
   "cell_type": "code",
   "execution_count": 13,
   "id": "04e3efb0",
   "metadata": {},
   "outputs": [
    {
     "data": {
      "image/png": "[encoded data removed]",
      "text/plain": [
       "<Figure size 1000x600 with 1 Axes>"
      ]
     },
     "metadata": {},
     "output_type": "display_data"
    }
   ],
   "source": [
    "# Ponto de corte\n",
    "limite = p_obs\n",
    "\n",
    "# Criar histograma manualmente\n",
    "counts, bins = np.histogram(stat_dist, bins=50)\n",
    "bin_centers = 0.5 * (bins[1:] + bins[:-1])\n",
    "\n",
    "# Definir cores com base no limite\n",
    "cores = ['red' if centro > limite else 'steelblue' for centro in bin_centers]\n",
    "\n",
    "# Plotar\n",
    "plt.figure(figsize=(10, 6))\n",
    "plt.bar(bin_centers, counts, width=(bins[1] - bins[0]), color=cores, edgecolor='black', alpha=0.7)\n",
    "\n",
    "# Linha vertical no valor observado\n",
    "plt.axvline(p_obs, color='red', linestyle='--', label=f'Valor observado ({p_obs:.2f})')\n",
    "\n",
    "# Título e rótulos\n",
    "plt.title(f'Distribuição H0')\n",
    "plt.xlabel('Estatística')\n",
    "plt.ylabel('Frequência')\n",
    "plt.legend()\n",
    "plt.grid(True)\n",
    "plt.show()\n"
   ]
  },
  {
   "cell_type": "code",
   "execution_count": 14,
   "id": "7366085b",
   "metadata": {},
   "outputs": [
    {
     "name": "stdout",
     "output_type": "stream",
     "text": [
      "p_value = 0.01\n",
      "alpha = 0.05\n",
      ">>> Temos evidências para rejeitar H0 em favor de Ha, pois p_value <= alpha\n"
     ]
    }
   ],
   "source": [
    "# Corresponde a área em vermelho do histograma e representa a probabilidade do acaso gerar um valor igual ou mais extremo do que o observado\n",
    "p_value = (stat_dist >= p_obs).sum() / stat_dist.shape[0]\n",
    "\n",
    "print(f\"p_value = {np.round(p_value , 2)}\")\n",
    "print(f\"alpha = {np.round(alpha , 2)}\")\n",
    "if p_value <= alpha:\n",
    "    print(\">>> Temos evidências para rejeitar H0 em favor de Ha, pois p_value <= alpha\")\n",
    "else:\n",
    "    print(\">>> Não temos evidências para rejeitar H0, pois p_value > alpha\")"
   ]
  },
  {
   "cell_type": "markdown",
   "id": "185d504b",
   "metadata": {},
   "source": [
    "**Interpretação do Teste de Hipótese**\n",
    "\n",
    "Ao nível de significância de 5% (isto é, assumindo uma probabilidade de 5% de rejeitarmos H₀ incorretamente), podemos rejeitar H₀ em favor de Hₐ.\n",
    "Isso significa que há evidências estatísticas para concluir que a taxa de conversão na população é superior a 50%."
   ]
  },
  {
   "cell_type": "markdown",
   "id": "3b342efd",
   "metadata": {},
   "source": [
    "### 📊 Modelo Estatístico\n",
    "\n"
   ]
  },
  {
   "cell_type": "markdown",
   "id": "bcad7774",
   "metadata": {},
   "source": [
    "Assumindo a hipótese nula (H₀) como verdadeira — ou seja, que a proporção populacional é *p* = 50%, podemos construir a distribuição sob H₀ da seguinte forma:\n",
    "\n",
    "- Se realizássemos várias amostragens aleatórias de tamanho *n* = 300 a partir de uma população com proporção *p* = 50%, e construíssemos a distribuição dessas proporções amostrais, o Teorema Central do Limite (TCL) afirma que, se *n* for suficientemente grande, essa distribuição será aproximadamente normal.\n",
    "\n",
    "**Condições para aplicar o TCL no caso de proporções:**\n",
    "- *np* > 10  \n",
    "- *n(1 − p)* > 10\n",
    "\n",
    "Essas condições garantem que a distribuição amostral da proporção seja bem aproximada por uma distribuição normal.\n"
   ]
  },
  {
   "cell_type": "code",
   "execution_count": 15,
   "id": "020bcf80",
   "metadata": {},
   "outputs": [
    {
     "name": "stdout",
     "output_type": "stream",
     "text": [
      "np = 150.0 >= 10 OK\n",
      "n(1-p) = 150.0 >= 10 OK\n"
     ]
    }
   ],
   "source": [
    "# Sabemos o valor de p\n",
    "p = 0.5      \n",
    "\n",
    "# Avaliando condições para aproximar pela normal\n",
    "print(f\"np = {n*p} >= 10 OK\")\n",
    "print(f\"n(1-p) = {n*(1-p)} >= 10 OK\")"
   ]
  },
  {
   "cell_type": "code",
   "execution_count": 16,
   "id": "13ccfd7d",
   "metadata": {},
   "outputs": [],
   "source": [
    "# Padronizando o valor observado para pegar o correspondente na distribuição normal padrão\n",
    "SE = np.sqrt(p*(1-p)/n)\n",
    "Z_obs = (p_obs - p)/SE"
   ]
  },
  {
   "cell_type": "code",
   "execution_count": 17,
   "id": "6c9fe961",
   "metadata": {},
   "outputs": [
    {
     "data": {
      "image/png": "[encoded data removed]",
      "text/plain": [
       "<Figure size 1000x600 with 1 Axes>"
      ]
     },
     "metadata": {},
     "output_type": "display_data"
    }
   ],
   "source": [
    "# REPRESENTAÇÃO GRÁFICA - opcional\n",
    "\n",
    "# Ponto de corte\n",
    "limite = Z_obs\n",
    "\n",
    "stat_dist = norm.rvs(loc=0, scale=1, size=10_000)\n",
    "\n",
    "# Criar histograma manualmente\n",
    "counts, bins = np.histogram(stat_dist, bins=50)\n",
    "bin_centers = 0.5 * (bins[1:] + bins[:-1])\n",
    "\n",
    "# Definir cores com base no limite\n",
    "cores = ['red' if centro > limite else 'steelblue' for centro in bin_centers]\n",
    "\n",
    "# Plotar\n",
    "plt.figure(figsize=(10, 6))\n",
    "plt.bar(bin_centers, counts, width=(bins[1] - bins[0]), color=cores, edgecolor='black', alpha=0.7)\n",
    "\n",
    "# Linha vertical no valor observado\n",
    "plt.axvline(Z_obs, color='red', linestyle='--', label=f'Valor observado ({Z_obs:.2f})')\n",
    "\n",
    "# Título e rótulos\n",
    "plt.title(f'Distribuição H0 - N(0,1)')\n",
    "plt.xlabel('Estatística')\n",
    "plt.ylabel('Frequência')\n",
    "plt.legend()\n",
    "plt.grid(True)\n",
    "plt.show()\n"
   ]
  },
  {
   "cell_type": "code",
   "execution_count": 18,
   "id": "58efa62e",
   "metadata": {},
   "outputs": [
    {
     "name": "stdout",
     "output_type": "stream",
     "text": [
      "p_value = 0.01\n",
      "alpha = 0.05\n",
      ">>> Temos evidências para rejeitar H0 em favor de Ha, pois p_value <= alpha\n"
     ]
    }
   ],
   "source": [
    "# Corresponde a área em vermelho do histograma e representa a probabilidade do acaso gerar um valor igual ou mais extremo do que o observado\n",
    "# p_value = P(Z >= Z_obs)\n",
    "p_value = 1 - norm.cdf(Z_obs, loc = 0, scale = 1)\n",
    "\n",
    "print(f\"p_value = {np.round(p_value , 2)}\")\n",
    "print(f\"alpha = {np.round(alpha , 2)}\")\n",
    "if p_value <= alpha:\n",
    "    print(\">>> Temos evidências para rejeitar H0 em favor de Ha, pois p_value <= alpha\")\n",
    "else:\n",
    "    print(\">>> Não temos evidências para rejeitar H0, pois p_value > alpha\")"
   ]
  },
  {
   "cell_type": "markdown",
   "id": "6342633b",
   "metadata": {},
   "source": [
    "## 🔹 3. Intervalo de Confiança para Diferença entre Proporções (grupos D e B)\n",
    "\n",
    "> Construa um intervalo de confiança de 95% para estimar a diferença na taxa de conversão entre os grupos D e B."
   ]
  },
  {
   "cell_type": "code",
   "execution_count": 19,
   "id": "ae67420f",
   "metadata": {},
   "outputs": [
    {
     "name": "stdout",
     "output_type": "stream",
     "text": [
      "nB = 75\n",
      "p_obs_B = 0.63\n"
     ]
    }
   ],
   "source": [
    "# Amostra B\n",
    "c = base[\"grupo\"] == \"B\"\n",
    "XB = base.loc[c, \"evento\"].values\n",
    "\n",
    "# Tamanho da amostra\n",
    "nB = XB.shape[0]\n",
    "\n",
    "# Proporção observada de clientes que realizaram alguma compra no grupo B\n",
    "p_obs_B = XB.mean()\n",
    "\n",
    "print(f\"nB = {nB}\")\n",
    "print(f\"p_obs_B = {np.round(p_obs_B,2)}\")"
   ]
  },
  {
   "cell_type": "code",
   "execution_count": 20,
   "id": "8badadda",
   "metadata": {},
   "outputs": [
    {
     "name": "stdout",
     "output_type": "stream",
     "text": [
      "nD = 75\n",
      "p_obs_D = 0.61\n"
     ]
    }
   ],
   "source": [
    "# Amostra D\n",
    "c = base[\"grupo\"] == \"D\"\n",
    "XD = base.loc[c, \"evento\"].values\n",
    "\n",
    "# Tamanho da amostra\n",
    "nD = XD.shape[0]\n",
    "\n",
    "# Proporção observada de clientes que realizaram alguma compra no grupo D\n",
    "p_obs_D = XD.mean()\n",
    "\n",
    "print(f\"nD = {nD}\")\n",
    "print(f\"p_obs_D = {np.round(p_obs_D,2)}\")"
   ]
  },
  {
   "cell_type": "code",
   "execution_count": 21,
   "id": "9e2e2129",
   "metadata": {},
   "outputs": [
    {
     "name": "stdout",
     "output_type": "stream",
     "text": [
      "diff_obs = 0.01333333333333342\n"
     ]
    }
   ],
   "source": [
    "# Diferença observada\n",
    "diff_obs = p_obs_B - p_obs_D\n",
    "print(f\"diff_obs = {diff_obs}\")"
   ]
  },
  {
   "cell_type": "markdown",
   "id": "c412a73e",
   "metadata": {},
   "source": [
    "### 💻 Computacional"
   ]
  },
  {
   "cell_type": "markdown",
   "id": "41d92de6",
   "metadata": {},
   "source": [
    "**Bootstrap:**\n",
    "\n",
    "Utilizamos o método de bootstrap separadamente para cada grupo e, em cada iteração, calculamos a estatística de interesse — que, neste caso, é a diferença entre as proporções dos grupos B e D."
   ]
  },
  {
   "cell_type": "code",
   "execution_count": 22,
   "id": "af19b1ca",
   "metadata": {},
   "outputs": [],
   "source": [
    "# BOOTSTRAP\n",
    "\n",
    "# Reamostragem\n",
    "n_simu = 10_000 # 10 mil simulações\n",
    "stat_dist = []\n",
    "\n",
    "for _ in range(n_simu):\n",
    "\n",
    "    # Reamostra com reposição\n",
    "    X_boot_B = np.random.choice(XB, size=nB, replace=True)\n",
    "    X_boot_D = np.random.choice(XD, size=nD, replace=True)\n",
    "\n",
    "    # Estatistica\n",
    "    p_boot_B = X_boot_B.mean()\n",
    "    p_boot_D = X_boot_D.mean()\n",
    "    stat_dist.append(p_boot_B - p_boot_D)\n",
    "\n",
    "\n",
    "# Calcular os percentis\n",
    "gama = 95\n",
    "stat_dist = np.array(stat_dist)\n",
    "percentile_l = np.percentile(stat_dist, (100 - gama)/2)\n",
    "percentile_r = np.percentile(stat_dist, gama + (100 - gama)/2)"
   ]
  },
  {
   "cell_type": "code",
   "execution_count": 23,
   "id": "21a1d89a",
   "metadata": {},
   "outputs": [
    {
     "data": {
      "image/png": "[encoded data removed]",
      "text/plain": [
       "<Figure size 1000x600 with 1 Axes>"
      ]
     },
     "metadata": {},
     "output_type": "display_data"
    },
    {
     "name": "stdout",
     "output_type": "stream",
     "text": [
      "IC_95 = [-0.147: 0.16]\n"
     ]
    }
   ],
   "source": [
    "# Plotar histograma da distribuição bootstrap\n",
    "plt.figure(figsize=(10, 6))\n",
    "plt.hist(stat_dist, bins=50, edgecolor='black', alpha=0.7)\n",
    "\n",
    "# Linhas \n",
    "plt.axvline(percentile_l, color='red', linestyle='--', label=f'Percentil inferior ({percentile_l:.2f})') # Percentil inferior\n",
    "plt.axvline(diff_obs, color='green', linestyle='--', label=f'Valor Observado ({diff_obs:.2f})')                # Valor observado\n",
    "plt.axvline(percentile_r, color='red', linestyle='--', label=f'Percentil superior ({percentile_r:.2f})') # Percentil superior\n",
    "\n",
    "# Título e rótulos\n",
    "plt.title(f'Distribuição Bootstrap da Estatística – Nível de confiança = {gama}%')\n",
    "plt.xlabel('Estatística')\n",
    "plt.ylabel('Frequência')\n",
    "plt.legend()\n",
    "plt.grid(True)\n",
    "plt.show()\n",
    "print(f\"IC_95 = [{np.round(percentile_l, 3)}: {np.round(percentile_r, 3)}]\")"
   ]
  },
  {
   "cell_type": "markdown",
   "id": "93635afb",
   "metadata": {},
   "source": [
    "**Interpretação do Intervalo obtido:**\n",
    "- Podemos afirmar com 95% de confiança que o verdadeiro valor do parâmetro populacional está entre os percentis inferior e superior do intervalo de confiança construído, conforme indicado acima."
   ]
  },
  {
   "cell_type": "markdown",
   "id": "ff901105",
   "metadata": {},
   "source": [
    "### 📊 Modelo Estatístico"
   ]
  },
  {
   "cell_type": "markdown",
   "id": "5c5eef62",
   "metadata": {},
   "source": [
    "Suposições que devem ser atendidas:\n",
    "- Dentro de cada grupo, deve atender as mesmas suposições estabelecidas em **1. Modelo Estatístico**.\n",
    "- Os grupos devem ser independentes.\n"
   ]
  },
  {
   "cell_type": "markdown",
   "id": "c02739b6",
   "metadata": {},
   "source": [
    "Deduções:"
   ]
  },
  {
   "cell_type": "markdown",
   "id": "04dba04c",
   "metadata": {},
   "source": [
    "<img src=\"img/3.dist_proporcao_diff.jpeg\" width=\"500\">\n",
    "<img src=\"img/4.ic_proporcao_diff.jpeg\" width=\"500\">"
   ]
  },
  {
   "cell_type": "code",
   "execution_count": 24,
   "id": "7e26adf5",
   "metadata": {},
   "outputs": [
    {
     "name": "stdout",
     "output_type": "stream",
     "text": [
      "n1p1 = 47.0 >= 10 OK\n",
      "n1(1-p1) = 27.999999999999996 >= 10 OK\n"
     ]
    }
   ],
   "source": [
    "# Melhor estimativa para p1\n",
    "p1 = p_obs_B\n",
    "n1 = nB\n",
    "# Avaliando condições para aproximar pela normal\n",
    "print(f\"n1p1 = {n1*p1} >= 10 OK\")\n",
    "print(f\"n1(1-p1) = {n1*(1-p1)} >= 10 OK\")"
   ]
  },
  {
   "cell_type": "code",
   "execution_count": 25,
   "id": "8447b11a",
   "metadata": {},
   "outputs": [
    {
     "name": "stdout",
     "output_type": "stream",
     "text": [
      "n2p2 = 46.0 >= 10 OK\n",
      "n2(2-p2) = 29.000000000000004 >= 10 OK\n"
     ]
    }
   ],
   "source": [
    "# Melhor estimativa para p2\n",
    "p2 = p_obs_D\n",
    "n2 = nD\n",
    "# Avaliando condições para aproximar pela normal\n",
    "print(f\"n2p2 = {n2*p2} >= 10 OK\")\n",
    "print(f\"n2(2-p2) = {n2*(1-p2)} >= 10 OK\")"
   ]
  },
  {
   "cell_type": "code",
   "execution_count": 26,
   "id": "4dfe6438",
   "metadata": {},
   "outputs": [
    {
     "name": "stdout",
     "output_type": "stream",
     "text": [
      "SE = 0.07925579777834225\n"
     ]
    }
   ],
   "source": [
    "# Obtendo o erro padrão da estatística (desvio padrão da distribuição da estatística)\n",
    "SE = np.sqrt(p1*(1-p1)/n1 + p2*(1-p2)/n2)\n",
    "print(f\"SE = {SE}\")"
   ]
  },
  {
   "cell_type": "code",
   "execution_count": 27,
   "id": "ca8739de",
   "metadata": {},
   "outputs": [
    {
     "name": "stdout",
     "output_type": "stream",
     "text": [
      "Zc = 1.959963984540054\n"
     ]
    }
   ],
   "source": [
    "# Obtendo valor crítico na distribuição normal padrão\n",
    "Zc = norm.ppf(0.975)\n",
    "print(f\"Zc = {Zc}\")"
   ]
  },
  {
   "cell_type": "code",
   "execution_count": 28,
   "id": "3f74b38c",
   "metadata": {},
   "outputs": [
    {
     "name": "stdout",
     "output_type": "stream",
     "text": [
      "IC_95 = [-0.142: 0.169]\n"
     ]
    }
   ],
   "source": [
    "# Obtendo o IC\n",
    "d0 = (p1 - p2) - Zc*SE\n",
    "d1 = (p1 - p2) + Zc*SE\n",
    "print(f\"IC_95 = [{np.round(d0, 3)}: {np.round(d1, 3)}]\")"
   ]
  },
  {
   "cell_type": "markdown",
   "id": "54fdcee1",
   "metadata": {},
   "source": [
    "## 🔹 4. Teste de Hipótese para Diferença entre Proporções\n",
    "\n",
    "> A taxa de conversão no grupo B (cupom de desconto) é diferente do que no grupo D (cashback) ?"
   ]
  },
  {
   "cell_type": "markdown",
   "id": "cbc53105",
   "metadata": {},
   "source": [
    "🧪 Hipóteses do Teste\n",
    "\n",
    "- H₀: Não há diferença na taxa de conversão entre os grupos B e D. Qualquer diferença observada seria atribuída apenas ao acaso.\n",
    "- Hₐ : Existe uma diferença na taxa de conversão entre os grupos B e D.\n",
    "\n",
    "Formalmente:\n",
    "- H₀: *p₁ − p₂* = 0  \n",
    "- Hₐ: *p₁ − p₂* ≠ 0\n",
    "\n",
    "O teste consiste em avaliar **quão provável seria observar uma diferença tão extrema quanto a observada (*p_obs_B − p_obs_D*)**, assumindo que a hipótese nula seja verdadeira."
   ]
  },
  {
   "cell_type": "markdown",
   "id": "8326df59",
   "metadata": {},
   "source": [
    "### 💻 Computacional"
   ]
  },
  {
   "cell_type": "markdown",
   "id": "78ef8e1d",
   "metadata": {},
   "source": [
    "**Randomization Test**\n",
    "\n",
    "Técnica utilizada para simular um cenário em que **não há diferença entre as duas populações** — ou seja, sob a hipótese nula (H₀).\n",
    "\n",
    "A ideia é **quebrar o efeito dos grupos**, removendo qualquer associação real entre o grupo (B ou D) e a resposta (por exemplo, se houve ou não compra). Para isso:\n",
    "\n",
    "- Mantemos a amostra original, mas **embaralhamos aleatoriamente as respostas** entre os indivíduos dos dois grupos.\n",
    "- Em seguida, **reconstruímos dois grupos artificiais**:\n",
    "  - Um com o mesmo tamanho do grupo B\n",
    "  - Outro com o mesmo tamanho do grupo D\n",
    "- Calculamos a estatística de interesse (por exemplo, a diferença entre as proporções de conversão) para essa nova divisão aleatória.\n",
    "- Repetimos esse processo muitas vezes, gerando uma **distribuição amostral da estatística sob H₀** — ou seja, sob o cenário em que **a diferença entre os grupos é nula**.\n",
    "\n",
    "Ao embaralhar as respostas, estamos simulando um mundo onde **o grupo não influencia o resultado**. Isso nos permite avaliar **quão extrema é a estatística observada**, comparada ao que esperaríamos **apenas pelo acaso**.\n"
   ]
  },
  {
   "cell_type": "code",
   "execution_count": 29,
   "id": "8a435881",
   "metadata": {},
   "outputs": [],
   "source": [
    "# RANDOMIZATION TEST\n",
    "\n",
    "# Reamostragem\n",
    "n_simu = 10_000\n",
    "stat_dist = []\n",
    "\n",
    "for _ in range(n_simu):\n",
    "\n",
    "    # Embaralha\n",
    "    shuffled = np.random.permutation(np.concatenate([XB, XD]))\n",
    "\n",
    "    # Proporções\n",
    "    pseudo_group_B = shuffled[:nB]\n",
    "    pseudo_group_D = shuffled[nD:]\n",
    "\n",
    "    # Estatistica\n",
    "    stat_dist.append(pseudo_group_B.mean() - pseudo_group_D.mean())\n",
    "\n",
    "stat_dist = np.array(stat_dist)"
   ]
  },
  {
   "cell_type": "code",
   "execution_count": 30,
   "id": "e54329f0",
   "metadata": {},
   "outputs": [
    {
     "data": {
      "image/png": "[encoded data removed]",
      "text/plain": [
       "<Figure size 1000x600 with 1 Axes>"
      ]
     },
     "metadata": {},
     "output_type": "display_data"
    }
   ],
   "source": [
    "# Plotar histograma da distribuição H0\n",
    "plt.figure(figsize=(10, 6))\n",
    "plt.hist(stat_dist, bins=50, edgecolor='black', alpha=0.7)\n",
    "\n",
    "# Linhas \n",
    "plt.axvline(diff_obs, color='green', linestyle='--', label=f'Valor Observado ({diff_obs:.2f})')\n",
    "\n",
    "# Título e rótulos\n",
    "plt.title(f'Distribuição H0')\n",
    "plt.xlabel('Estatística')\n",
    "plt.ylabel('Frequência')\n",
    "plt.legend()\n",
    "plt.grid(True)\n",
    "plt.show()"
   ]
  },
  {
   "cell_type": "code",
   "execution_count": 31,
   "id": "e4b8229b",
   "metadata": {},
   "outputs": [
    {
     "name": "stdout",
     "output_type": "stream",
     "text": [
      "p_value = 1.0\n",
      "alpha = 0.05\n",
      ">>> Não temos evidências para rejeitar H0, pois p_value > alpha\n"
     ]
    }
   ],
   "source": [
    "p_value = (np.abs(stat_dist) >= np.abs(diff_obs)).sum() / stat_dist.shape[0]\n",
    "\n",
    "print(f\"p_value = {np.round(p_value , 2)}\")\n",
    "print(f\"alpha = {np.round(alpha , 2)}\")\n",
    "if p_value <= alpha:\n",
    "    print(\">>> Temos evidências para rejeitar H0 em favor de Ha, pois p_value <= alpha\")\n",
    "else:\n",
    "    print(\">>> Não temos evidências para rejeitar H0, pois p_value > alpha\")"
   ]
  },
  {
   "cell_type": "markdown",
   "id": "bf8f69bd",
   "metadata": {},
   "source": [
    "**Interpretação do Teste de Hipótese**\n",
    "\n",
    "Não há evidências estatísticas suficientes para rejeitar a hipótese nula (H₀).  \n",
    "Ou seja, o resultado obtido nesta amostra **não é suficientemente significativo** para concluirmos que as taxas de conversão dos grupos B e D são, de fato, diferentes na população."
   ]
  },
  {
   "cell_type": "markdown",
   "id": "7dba5b41",
   "metadata": {},
   "source": [
    "### 📊 Modelo Estatístico\n",
    "\n"
   ]
  },
  {
   "cell_type": "markdown",
   "id": "fabd271a",
   "metadata": {},
   "source": [
    "descrever a idea do teste de hipótese"
   ]
  },
  {
   "cell_type": "code",
   "execution_count": 32,
   "id": "fa384e4b",
   "metadata": {},
   "outputs": [
    {
     "name": "stdout",
     "output_type": "stream",
     "text": [
      "n1p1 = 46.5 >= 10 OK\n",
      "n1(1-p1) = 28.5 >= 10 OK\n",
      "n2p2 = 46.5 >= 10 OK\n",
      "n2(2-p2) = 28.5 >= 10 OK\n"
     ]
    }
   ],
   "source": [
    "# Melhor estimativa para p1 e p2 é p0\n",
    "p0 = (n1*p1 + n2*p2)/(n1+n2)\n",
    "p1 = p2 = p0\n",
    "\n",
    "# Avaliando condições para aproximar pela normal\n",
    "print(f\"n1p1 = {n1*p1} >= 10 OK\")\n",
    "print(f\"n1(1-p1) = {n1*(1-p1)} >= 10 OK\")\n",
    "print(f\"n2p2 = {n2*p2} >= 10 OK\")\n",
    "print(f\"n2(2-p2) = {n2*(1-p2)} >= 10 OK\")"
   ]
  },
  {
   "cell_type": "code",
   "execution_count": 33,
   "id": "dcaf1f6c",
   "metadata": {},
   "outputs": [
    {
     "name": "stdout",
     "output_type": "stream",
     "text": [
      "SE = 0.0792632743877432\n"
     ]
    }
   ],
   "source": [
    "# Obtendo o erro padrão da estatística (desvio padrão da distribuição da estatística)\n",
    "SE = np.sqrt(p1*(1-p1)/n1 + p2*(1-p2)/n2)\n",
    "print(f\"SE = {SE}\")"
   ]
  },
  {
   "cell_type": "code",
   "execution_count": 34,
   "id": "0cff996a",
   "metadata": {},
   "outputs": [
    {
     "data": {
      "text/plain": [
       "0.16821577756312334"
      ]
     },
     "execution_count": 34,
     "metadata": {},
     "output_type": "execute_result"
    }
   ],
   "source": [
    "Z_obs = (diff_obs - 0)/SE\n",
    "Z_obs"
   ]
  },
  {
   "cell_type": "code",
   "execution_count": 35,
   "id": "4c16cd58",
   "metadata": {},
   "outputs": [
    {
     "name": "stdout",
     "output_type": "stream",
     "text": [
      "p_value = 0.87\n",
      "alpha = 0.05\n",
      ">>> Não temos evidências para rejeitar H0, pois p_value > alpha\n"
     ]
    }
   ],
   "source": [
    "# p_value = P(Z >= Z_obs) + P(Z <= -Z_obs)\n",
    "p_value = 1 - norm.cdf(Z_obs, loc = 0, scale = 1) + norm.cdf(-Z_obs, loc = 0, scale = 1)\n",
    "\n",
    "print(f\"p_value = {np.round(p_value , 2)}\")\n",
    "print(f\"alpha = {np.round(alpha , 2)}\")\n",
    "if p_value <= alpha:\n",
    "    print(\">>> Temos evidências para rejeitar H0 em favor de Ha, pois p_value <= alpha\")\n",
    "else:\n",
    "    print(\">>> Não temos evidências para rejeitar H0, pois p_value > alpha\")"
   ]
  },
  {
   "cell_type": "markdown",
   "id": "363ca893",
   "metadata": {},
   "source": [
    "## 🔹 5. Associação entre variáveis categóricas\n",
    "\n",
    "> A taxa de conversão (`evento`) está associada ao tipo de campanha (`grupo`)?"
   ]
  },
  {
   "cell_type": "markdown",
   "id": "70f07a72",
   "metadata": {},
   "source": [
    "## 🔹 6. Intervalo de Confiança para a Média Geral de Compras\n",
    "\n",
    "> Construa um intervalo de confiança de 95% para estimar o valor médio de compra (`score`) de todos os clientes."
   ]
  },
  {
   "cell_type": "markdown",
   "id": "280c9cd8",
   "metadata": {},
   "source": [
    "## 🔹 7. Teste de Hipótese para uma Média\n",
    "\n",
    "> O valor médio de compra (`score`) de todos os clientes é maior que R$ 70?"
   ]
  },
  {
   "cell_type": "markdown",
   "id": "035f0996",
   "metadata": {},
   "source": [
    "## 🔹 8. Intervalo de Confiança para Diferença entre Médias (D vs. B)\n",
    "\n",
    "> Construa um intervalo de confiança de 95% para estimar a diferença no valor médio de compra entre os grupos D e B."
   ]
  },
  {
   "cell_type": "markdown",
   "id": "4d3c9443",
   "metadata": {},
   "source": [
    "## 🔹 9. Teste de Hipótese para Diferença entre Médias\n",
    "\n",
    "> O grupo D gerou um valor médio de compra diferente do que o grupo B?"
   ]
  },
  {
   "cell_type": "markdown",
   "id": "5d2a6040",
   "metadata": {},
   "source": [
    "## 🔹 10. Intervalo de Confiança para Diferença de Médias Pareadas\n",
    "\n",
    "> Construa um intervalo de confiança de 95% para estimar o efeito da campanha na mudança de número de visitas (antes e depois)."
   ]
  },
  {
   "cell_type": "markdown",
   "id": "34a0cd7a",
   "metadata": {},
   "source": [
    "## 🔹 11. Teste de Hipótese para Diferença de Médias Pareadas\n",
    "\n",
    "> A campanha aumentou o número médio de visitas ao site por cliente?"
   ]
  },
  {
   "cell_type": "markdown",
   "id": "0abeb162",
   "metadata": {},
   "source": [
    "## 🔹 12. Diferença entre 4 médias (ANOVA)\n",
    "\n",
    "> Há diferenças significativas no valor médio de compra entre os quatro grupos de campanha (A, B, C, D)?"
   ]
  },
  {
   "cell_type": "markdown",
   "id": "e3007677",
   "metadata": {},
   "source": [
    "## 🔹 13. Pós-ANOVA (quem difere de quem?)\n",
    "\n",
    "> Quais campanhas geraram resultados estatisticamente diferentes em termos de valor médio de compra?"
   ]
  },
  {
   "cell_type": "markdown",
   "id": "7f822bb9",
   "metadata": {},
   "source": [
    "# Referências\n",
    "- https://openintro-ims.netlify.app/inference-one-prop"
   ]
  }
 ],
 "metadata": {
  "kernelspec": {
   "display_name": "estudos",
   "language": "python",
   "name": "python3"
  },
  "language_info": {
   "codemirror_mode": {
    "name": "ipython",
    "version": 3
   },
   "file_extension": ".py",
   "mimetype": "text/x-python",
   "name": "python",
   "nbconvert_exporter": "python",
   "pygments_lexer": "ipython3",
   "version": "3.9.21"
  }
 },
 "nbformat": 4,
 "nbformat_minor": 5
}
