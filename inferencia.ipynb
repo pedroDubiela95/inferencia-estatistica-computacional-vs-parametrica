{
 "cells": [
  {
   "cell_type": "markdown",
   "id": "098dddae",
   "metadata": {},
   "source": [
    "# Introdução\n",
    "\n",
    "## 📘 Sobre este Estudo\n",
    "\n",
    "Este notebook foi elaborado com fins **didáticos e demonstrativos** para mostrar como aplicar técnicas de **inferência estatística**, utilizando tanto métodos **clássicos (paramétricos)** quanto **computacionais** (como bootstrap e testes de aleatorização).\n",
    "\n",
    "---\n",
    "\n",
    "## 🛒 Contexto do Problema\n",
    "\n",
    "A empresa fictícia **RetailX**, uma varejista digital, lançou uma campanha para testar o impacto de diferentes estratégias promocionais sobre o comportamento de seus clientes. A empresa está especialmente interessada em entender:\n",
    "\n",
    "- Se as campanhas aumentam o engajamento no site\n",
    "- Se as campanhas influenciam a taxa de conversão (compra)\n",
    "- Se há impacto no valor total gasto\n",
    "\n",
    "Para isso, um experimento foi conduzido com **quatro grupos de clientes**, atribuídos aleatoriamente.\n",
    "\n",
    "---\n",
    "\n",
    "## 🎯 Objetivo do Estudo\n",
    "\n",
    "Avaliar se **diferentes tipos de campanha** geram **diferenças estatisticamente significativas** em:\n",
    "- Taxa de conversão (realizou compra ou não)\n",
    "- Valor de compra (gasto em reais)\n",
    "- Número de visitas ao site (antes e depois da campanha)\n",
    "---\n",
    "\n",
    "## 🧾 Descrição das Variáveis\n",
    "\n",
    "| Variável            | Tipo        | Descrição                                                                 |\n",
    "|---------------------|-------------|---------------------------------------------------------------------------|\n",
    "| `grupo`             | Categórica  | **Campanha recebida pelo cliente**:<br>• `A`: grupo **controle** (não recebeu estímulo)<br>• `B`: cupom de desconto<br>• `C`: frete grátis<br>• `D`: cashback |\n",
    "| `evento`            | Binária     | Indicador de conversão: o cliente **realizou uma compra?** (`1` = sim, `0` = não) |\n",
    "| `score`             | Contínua    | Valor total gasto pelo cliente (em reais) durante o período da campanha  |\n",
    "| `pre_treinamento`   | Contínua    | Número de visitas ao site **antes da campanha**                           |\n",
    "| `pos_treinamento`   | Contínua    | Número de visitas ao site **após a campanha**                             |\n",
    "\n",
    "---\n",
    "\n",
    "## 🧠 O que significa “grupo controle”?\n",
    "\n",
    "O grupo **controle** (`grupo = A`) é formado por clientes que **não receberam nenhuma campanha promocional**. Esse grupo serve como **referência neutra**, permitindo que possamos comparar com os demais grupos e **isolar o efeito da campanha**.\n",
    "\n",
    "> Exemplo: Se o grupo B (cupom) tiver maior conversão do que o grupo A (controle), é possível afirmar com maior confiança que o cupom teve impacto real — desde que a diferença seja estatisticamente significativa."
   ]
  },
  {
   "cell_type": "markdown",
   "id": "25bbb34b",
   "metadata": {},
   "source": [
    "# Análises"
   ]
  },
  {
   "cell_type": "code",
   "execution_count": 1,
   "id": "c8e4846d",
   "metadata": {},
   "outputs": [],
   "source": [
    "# SETUP\n",
    "import pandas as pd\n",
    "import numpy as np\n",
    "import matplotlib.pyplot as plt\n",
    "from scipy.stats import norm, t, f"
   ]
  },
  {
   "cell_type": "code",
   "execution_count": 2,
   "id": "b707478a",
   "metadata": {},
   "outputs": [
    {
     "data": {
      "text/html": [
       "<div>\n",
       "<style scoped>\n",
       "    .dataframe tbody tr th:only-of-type {\n",
       "        vertical-align: middle;\n",
       "    }\n",
       "\n",
       "    .dataframe tbody tr th {\n",
       "        vertical-align: top;\n",
       "    }\n",
       "\n",
       "    .dataframe thead th {\n",
       "        text-align: right;\n",
       "    }\n",
       "</style>\n",
       "<table border=\"1\" class=\"dataframe\">\n",
       "  <thead>\n",
       "    <tr style=\"text-align: right;\">\n",
       "      <th></th>\n",
       "      <th>grupo</th>\n",
       "      <th>evento</th>\n",
       "      <th>score</th>\n",
       "      <th>pre_treinamento</th>\n",
       "      <th>pos_treinamento</th>\n",
       "    </tr>\n",
       "  </thead>\n",
       "  <tbody>\n",
       "    <tr>\n",
       "      <th>0</th>\n",
       "      <td>A</td>\n",
       "      <td>0</td>\n",
       "      <td>0.00</td>\n",
       "      <td>6</td>\n",
       "      <td>6</td>\n",
       "    </tr>\n",
       "    <tr>\n",
       "      <th>1</th>\n",
       "      <td>A</td>\n",
       "      <td>1</td>\n",
       "      <td>70.68</td>\n",
       "      <td>4</td>\n",
       "      <td>4</td>\n",
       "    </tr>\n",
       "    <tr>\n",
       "      <th>2</th>\n",
       "      <td>A</td>\n",
       "      <td>1</td>\n",
       "      <td>60.23</td>\n",
       "      <td>6</td>\n",
       "      <td>6</td>\n",
       "    </tr>\n",
       "    <tr>\n",
       "      <th>3</th>\n",
       "      <td>A</td>\n",
       "      <td>1</td>\n",
       "      <td>102.16</td>\n",
       "      <td>8</td>\n",
       "      <td>8</td>\n",
       "    </tr>\n",
       "    <tr>\n",
       "      <th>4</th>\n",
       "      <td>A</td>\n",
       "      <td>0</td>\n",
       "      <td>0.00</td>\n",
       "      <td>1</td>\n",
       "      <td>2</td>\n",
       "    </tr>\n",
       "  </tbody>\n",
       "</table>\n",
       "</div>"
      ],
      "text/plain": [
       "  grupo  evento   score  pre_treinamento  pos_treinamento\n",
       "0     A       0    0.00                6                6\n",
       "1     A       1   70.68                4                4\n",
       "2     A       1   60.23                6                6\n",
       "3     A       1  102.16                8                8\n",
       "4     A       0    0.00                1                2"
      ]
     },
     "execution_count": 2,
     "metadata": {},
     "output_type": "execute_result"
    }
   ],
   "source": [
    "# LOAD: A base já está sanitizada.\n",
    "base = pd.read_excel(\"dados/base_retailx.xlsx\")\n",
    "base.head()"
   ]
  },
  {
   "cell_type": "markdown",
   "id": "f7a16c46",
   "metadata": {},
   "source": [
    "## 1. Construa um intervalo de confiança de 95% para estimar a proporção de clientes que realizaram compra."
   ]
  },
  {
   "cell_type": "code",
   "execution_count": 3,
   "id": "2dc8e5ad",
   "metadata": {},
   "outputs": [
    {
     "name": "stdout",
     "output_type": "stream",
     "text": [
      "n = 300\n",
      "p_obs = 0.57\n"
     ]
    }
   ],
   "source": [
    "# Variável observada\n",
    "X = base[\"evento\"].values\n",
    "\n",
    "# Tamanho da amostra\n",
    "n = X.shape[0]\n",
    "\n",
    "# Proporção amostral observada\n",
    "p_obs = X.mean()\n",
    "\n",
    "print(f\"n = {n}\")\n",
    "print(f\"p_obs = {np.round(p_obs, 2)}\")"
   ]
  },
  {
   "cell_type": "markdown",
   "id": "125524c9",
   "metadata": {},
   "source": [
    "### Modelo Paramétrico"
   ]
  },
  {
   "cell_type": "markdown",
   "id": "b1bda74f",
   "metadata": {},
   "source": [
    "<img src=\"img/e1a.jpeg\" width=\"500\">\n",
    "<img src=\"img/e1b.jpeg\" width=\"500\">"
   ]
  },
  {
   "cell_type": "code",
   "execution_count": 4,
   "id": "986dd0e6",
   "metadata": {},
   "outputs": [
    {
     "name": "stdout",
     "output_type": "stream",
     "text": [
      "True\n"
     ]
    }
   ],
   "source": [
    "# Melhor estimativa para p\n",
    "p = p_obs\n",
    "\n",
    "# Validação de aproximação pela normal\n",
    "print((n*p >= 10) & (n*(1-p) >= 10))"
   ]
  },
  {
   "cell_type": "code",
   "execution_count": 5,
   "id": "8c0c6033",
   "metadata": {},
   "outputs": [
    {
     "name": "stdout",
     "output_type": "stream",
     "text": [
      "SE = 0.03\n"
     ]
    }
   ],
   "source": [
    "# Erro Padrão\n",
    "SE = np.sqrt(p*(1-p)/n)\n",
    "print(f\"SE = {np.round(SE, 2)}\")"
   ]
  },
  {
   "cell_type": "code",
   "execution_count": 6,
   "id": "bb6038dc",
   "metadata": {},
   "outputs": [
    {
     "name": "stdout",
     "output_type": "stream",
     "text": [
      "Zc = 1.96\n"
     ]
    }
   ],
   "source": [
    "# Obtenção do Zc\n",
    "gama = .95\n",
    "q    = (1- gama)/2 + gama\n",
    "Zc   = norm.ppf(q=q)\n",
    "print(f\"Zc = {np.round(Zc, 2)}\")"
   ]
  },
  {
   "cell_type": "code",
   "execution_count": 7,
   "id": "705a4f22",
   "metadata": {},
   "outputs": [
    {
     "name": "stdout",
     "output_type": "stream",
     "text": [
      "IC = [0.51, 0.62]\n",
      "IC = 0.57 +- 1.96 * 0.03\n"
     ]
    }
   ],
   "source": [
    "# Intervalo de confiança\n",
    "p0 = p_obs - Zc*SE\n",
    "p1 = p_obs + Zc*SE\n",
    "print(f\"IC = [{np.round(p0, 2)}, {np.round(p1, 2)}]\")\n",
    "print(f\"IC = {np.round(p_obs, 2)} +- {np.round(Zc, 2)} * {np.round(SE, 2)}\")"
   ]
  },
  {
   "cell_type": "markdown",
   "id": "ef207458",
   "metadata": {},
   "source": [
    "**Conclusão**\n",
    "\n",
    "- Temos **95% de confiança** de que o verdadeiro valor da proporção populacional \\(p\\) está entre **51% e 62%**. Em outras palavras, acreditamos com 95% de confiança que a **taxa de conversão dos clientes dessa loja** se encontra nesse intervalo.\n",
    "\n",
    "- Essa confiança **não deve ser interpretada** como a probabilidade de que este intervalo específico contenha \\(p\\), pois o valor de \\(p\\) é fixo (embora desconhecido), e o intervalo é aleatório.\n",
    "\n",
    "- A interpretação correta é: Se repetíssemos esse mesmo processo de amostragem e construção de intervalo muitas vezes, em **95% dos casos** os intervalos obtidos conteriam o verdadeiro valor de \\(p\\).\n",
    "\n",
    "- Portanto, com base nessa confiança no processo, podemos selecionar **este único intervalo** e afirmar com **95% de confiança** que o verdadeiro valor de \\(p\\) está entre **51% e 62%**.\n"
   ]
  },
  {
   "cell_type": "markdown",
   "id": "5f162a05",
   "metadata": {},
   "source": [
    "## 2. Podemos afirmar que a taxa de conversão dos clientes é superior que 50%?"
   ]
  },
  {
   "cell_type": "markdown",
   "id": "20c4531e",
   "metadata": {},
   "source": [
    "**Hipóteses do Teste**\n",
    "\n",
    "- **H₀ (Hipótese nula):** A taxa de conversão na população **não é superior a 50%**. O valor observado pode ser explicado apenas pela variabilidade amostral (acaso na seleção da amostra).\n",
    "- **H₁ (Hipótese alternativa):** A taxa de conversão na população **é superior a 50%**.\n",
    "\n",
    "**Notação formal:**\n",
    "\n",
    "- H₀: p = po | (po = 50%)\n",
    "- H₁: p > po\n",
    "\n"
   ]
  },
  {
   "cell_type": "markdown",
   "id": "a4a723c9",
   "metadata": {},
   "source": [
    "### Modelo Paramétrico"
   ]
  },
  {
   "cell_type": "markdown",
   "id": "4ceb817b",
   "metadata": {},
   "source": [
    "<img src=\"img/e2.jpeg\" width=\"500\">"
   ]
  },
  {
   "cell_type": "code",
   "execution_count": 8,
   "id": "5ab47d11",
   "metadata": {},
   "outputs": [
    {
     "name": "stdout",
     "output_type": "stream",
     "text": [
      "alpha = 0.05\n"
     ]
    }
   ],
   "source": [
    "# Nível de significância do teste\n",
    "alpha = .05\n",
    "print(f\"alpha = {np.round(alpha, 2)}\")"
   ]
  },
  {
   "cell_type": "code",
   "execution_count": 9,
   "id": "d2c5deaa",
   "metadata": {},
   "outputs": [
    {
     "name": "stdout",
     "output_type": "stream",
     "text": [
      "p0 = 0.5\n"
     ]
    }
   ],
   "source": [
    "# Distribuição sob H0\n",
    "po = .5\n",
    "print(f\"p0 = {np.round(po, 2)}\")"
   ]
  },
  {
   "cell_type": "code",
   "execution_count": 10,
   "id": "529b5f87",
   "metadata": {},
   "outputs": [
    {
     "name": "stdout",
     "output_type": "stream",
     "text": [
      "True\n"
     ]
    }
   ],
   "source": [
    "# Validação de aproximação pela normal\n",
    "print((n*p0 >= 10) & (n*(1-p0) >= 10))"
   ]
  },
  {
   "cell_type": "code",
   "execution_count": 11,
   "id": "fb1dc2e1",
   "metadata": {},
   "outputs": [
    {
     "name": "stdout",
     "output_type": "stream",
     "text": [
      "Z_obs = 2.31\n"
     ]
    }
   ],
   "source": [
    "# Padronizando o valor observado\n",
    "Z_obs = (p_obs - po)/np.sqrt(po*(1-po)/n)\n",
    "print(f\"Z_obs = {np.round(Z_obs, 2)}\")"
   ]
  },
  {
   "cell_type": "code",
   "execution_count": 12,
   "id": "573085da",
   "metadata": {},
   "outputs": [
    {
     "name": "stdout",
     "output_type": "stream",
     "text": [
      "p-valor = 0.01 < α = 0.05 → Rejeitamos H0\n"
     ]
    }
   ],
   "source": [
    "# Calculando p_value (probabilidade do acaso gerar um valor tão extremo quanto o observado)\n",
    "p_value = 1 - norm.cdf(Z_obs)\n",
    "\n",
    "# Decisão\n",
    "if p_value < alpha:\n",
    "    print(f\"p-valor = {p_value:.2f} < α = {alpha} → Rejeitamos H0\")\n",
    "else:\n",
    "    print(f\"p-valor = {p_value:.2f} ≥ α = {alpha} → Não rejeitamos H0\")\n"
   ]
  },
  {
   "cell_type": "markdown",
   "id": "160e17f3",
   "metadata": {},
   "source": [
    "**Conclusão**\n",
    "\n",
    "- Ao nível de significância de 5% (probabilidade de rejeitar incorretamente a hipótese nula), temos evidência suficiente para rejeitar H₀ em favor de H₁.  \n",
    "Com isso, concluímos que a taxa de conversão dos clientes é **superior a 50%**.\n"
   ]
  },
  {
   "cell_type": "markdown",
   "id": "12d93445",
   "metadata": {},
   "source": [
    "## 3. Construa um intervalo de confiança de 95% para estimar a diferença na taxa de conversão entre os grupos B e D."
   ]
  },
  {
   "cell_type": "code",
   "execution_count": 13,
   "id": "cc012b94",
   "metadata": {},
   "outputs": [
    {
     "name": "stdout",
     "output_type": "stream",
     "text": [
      "nB = 75\n",
      "pB_obs = 0.63\n"
     ]
    }
   ],
   "source": [
    "# Grupo B: Teve cupom de desconto\n",
    "\n",
    "# Variável observada\n",
    "XB = base.loc[(base[\"grupo\"] == \"B\"), \"evento\"].values\n",
    "\n",
    "# Tamanho da amostra\n",
    "nB = XB.shape[0]\n",
    "\n",
    "# Proporção amostral observada\n",
    "pB_obs = XB.mean()\n",
    "\n",
    "print(f\"nB = {nB}\")\n",
    "print(f\"pB_obs = {np.round(pB_obs, 2)}\")"
   ]
  },
  {
   "cell_type": "code",
   "execution_count": 14,
   "id": "18eb3d46",
   "metadata": {},
   "outputs": [
    {
     "name": "stdout",
     "output_type": "stream",
     "text": [
      "nD = 75\n",
      "pD_obs = 0.61\n"
     ]
    }
   ],
   "source": [
    "# Grupo D: Teve cashback\n",
    "\n",
    "# Variável observada\n",
    "XD = base.loc[(base[\"grupo\"] == \"D\"), \"evento\"].values\n",
    "\n",
    "# Tamanho da amostra\n",
    "nD = XD.shape[0]\n",
    "\n",
    "# Proporção amostral observada\n",
    "pD_obs = XD.mean()\n",
    "\n",
    "print(f\"nD = {nD}\")\n",
    "print(f\"pD_obs = {np.round(pD_obs, 2)}\")"
   ]
  },
  {
   "cell_type": "code",
   "execution_count": 15,
   "id": "b789fa58",
   "metadata": {},
   "outputs": [
    {
     "name": "stdout",
     "output_type": "stream",
     "text": [
      "diff_B_D_obs = 0.01\n"
     ]
    }
   ],
   "source": [
    "# Diferença observada\n",
    "diff_B_D_obs = pB_obs - pD_obs\n",
    "print(f\"diff_B_D_obs = {np.round(diff_B_D_obs, 2)}\")"
   ]
  },
  {
   "cell_type": "markdown",
   "id": "917907fd",
   "metadata": {},
   "source": [
    "### Modelo Paramétrico"
   ]
  },
  {
   "cell_type": "code",
   "execution_count": 16,
   "id": "6b7a13fa",
   "metadata": {},
   "outputs": [
    {
     "name": "stdout",
     "output_type": "stream",
     "text": [
      "True\n"
     ]
    }
   ],
   "source": [
    "# Melhor estimativa para pB\n",
    "pB = pB_obs\n",
    "\n",
    "# Validação de aproximação pela normal\n",
    "print((nB*pB >= 10) & (nB*(1-pB) >= 10))"
   ]
  },
  {
   "cell_type": "code",
   "execution_count": 17,
   "id": "10d2303d",
   "metadata": {},
   "outputs": [
    {
     "name": "stdout",
     "output_type": "stream",
     "text": [
      "True\n"
     ]
    }
   ],
   "source": [
    "# Melhor estimativa para pD\n",
    "pD = pD_obs\n",
    "\n",
    "# Validação de aproximação pela normal\n",
    "print((nD*pD >= 10) & (nD*(1-pD) >= 10))"
   ]
  },
  {
   "cell_type": "code",
   "execution_count": 18,
   "id": "30cdb04e",
   "metadata": {},
   "outputs": [
    {
     "name": "stdout",
     "output_type": "stream",
     "text": [
      "SE = 0.08\n"
     ]
    }
   ],
   "source": [
    "# Erro Padrão\n",
    "SE = np.sqrt(pB*(1-pB)/nB + pD*(1-pD)/nD)\n",
    "print(f\"SE = {np.round(SE, 2)}\")"
   ]
  },
  {
   "cell_type": "code",
   "execution_count": 19,
   "id": "8d2c5e33",
   "metadata": {},
   "outputs": [
    {
     "name": "stdout",
     "output_type": "stream",
     "text": [
      "Zc = 1.96\n"
     ]
    }
   ],
   "source": [
    "# Obtenção do Zc\n",
    "gama = .95\n",
    "q    = (1- gama)/2 + gama\n",
    "Zc   = norm.ppf(q=q)\n",
    "print(f\"Zc = {np.round(Zc, 2)}\")"
   ]
  },
  {
   "cell_type": "code",
   "execution_count": 20,
   "id": "1d73023b",
   "metadata": {},
   "outputs": [
    {
     "name": "stdout",
     "output_type": "stream",
     "text": [
      "IC = [-0.14, 0.17]\n",
      "IC = 0.01 +- 1.96 * 0.08\n"
     ]
    }
   ],
   "source": [
    "# Intervalo de confiança\n",
    "d0 = diff_B_D_obs - Zc*SE\n",
    "d1 = diff_B_D_obs + Zc*SE\n",
    "print(f\"IC = [{np.round(d0, 2)}, {np.round(d1, 2)}]\")\n",
    "print(f\"IC = {np.round(diff_B_D_obs, 2)} +- {np.round(Zc, 2)} * {np.round(SE, 2)}\")"
   ]
  },
  {
   "cell_type": "markdown",
   "id": "67a7fd36",
   "metadata": {},
   "source": [
    "## Conclusão\n",
    "\n",
    "- Com **95% de confiança**, estimamos que a diferença populacional nas taxas de conversão entre os grupos B e D (pB - pD) esteja entre **-14 p.p. e 17 p.p.**\n",
    "- Em outras palavras, acreditamos que a taxa de conversão do grupo B pode ser até 14 pontos percentuais **menor** ou até 17 pontos percentuais **maior** do que a do grupo D."
   ]
  },
  {
   "cell_type": "markdown",
   "id": "97f9ce09",
   "metadata": {},
   "source": [
    "## 4. Podemos concluir que a taxa de conversão nos grupos B e D são diferentes?"
   ]
  },
  {
   "cell_type": "markdown",
   "id": "5ec113e1",
   "metadata": {},
   "source": [
    "O resultado apresentado no item 3 já responde à pergunta: com **95% de confiança**, estimamos que a diferença populacional nas taxas de conversão entre os grupos B e D (pB - pD) esteja entre **-14 p.p. e 17 p.p.**\n",
    "\n",
    "Como esse intervalo inclui o valor **0**, **não temos evidência estatística suficiente** para concluir que existe uma diferença significativa entre as taxas de conversão dos dois grupos, ao nível de significância de 5%.\n",
    "\n",
    "Além disso, a realização de um **teste de hipótese** formal para a diferença entre proporções levaria à **mesma conclusão**, reforçando que não há evidência de diferença estatisticamente significativa — o que faremos na sequência."
   ]
  },
  {
   "cell_type": "markdown",
   "id": "08c36325",
   "metadata": {},
   "source": [
    "**Hipóteses do Teste**\n",
    "\n",
    "- **H₀ (Hipótese nula):** Não há diferença na taxa de conversão entre os grupos B e D. A diferença observada pode ser atribuída à variabilidade amostral (isto é, ao acaso na seleção da amostra).\n",
    "- **H₁ (Hipótese alternativa):** Existe uma diferença real entre as taxas de conversão dos grupos B e D.\n",
    "\n",
    "**Notação formal:**\n",
    "\n",
    "- H₀: pB - pD = do | (do = 0)\n",
    "- H₁: pB - pD != do\n",
    "\n"
   ]
  },
  {
   "cell_type": "markdown",
   "id": "ead43f3e",
   "metadata": {},
   "source": [
    "### Modelo Paramétrico"
   ]
  },
  {
   "cell_type": "code",
   "execution_count": 21,
   "id": "701545ea",
   "metadata": {},
   "outputs": [
    {
     "name": "stdout",
     "output_type": "stream",
     "text": [
      "alpha = 0.05\n"
     ]
    }
   ],
   "source": [
    "# Nível de significância do teste\n",
    "alpha = .05\n",
    "print(f\"alpha = {np.round(alpha, 2)}\")"
   ]
  },
  {
   "cell_type": "code",
   "execution_count": 22,
   "id": "bd8d1047",
   "metadata": {},
   "outputs": [
    {
     "name": "stdout",
     "output_type": "stream",
     "text": [
      "p0 = 0.62\n"
     ]
    }
   ],
   "source": [
    "# Distribuição sob H0\n",
    "po = (nB * pB_obs + nD * pD_obs) / (nB + nD)\n",
    "print(f\"p0 = {np.round(po, 2)}\")"
   ]
  },
  {
   "cell_type": "code",
   "execution_count": 23,
   "id": "1f0c5eb6",
   "metadata": {},
   "outputs": [
    {
     "name": "stdout",
     "output_type": "stream",
     "text": [
      "True\n",
      "True\n"
     ]
    }
   ],
   "source": [
    "# Validação de aproximação pela normal\n",
    "print((nB*p0 >= 10) & (nB*(1-p0) >= 10))\n",
    "print((nD*p0 >= 10) & (nD*(1-p0) >= 10))"
   ]
  },
  {
   "cell_type": "code",
   "execution_count": 24,
   "id": "a8c343b3",
   "metadata": {},
   "outputs": [
    {
     "name": "stdout",
     "output_type": "stream",
     "text": [
      "Z_obs = 0.17\n"
     ]
    }
   ],
   "source": [
    "# Padronizando o valor observado\n",
    "Z_obs = (pB_obs - pD_obs)/np.sqrt((po*(1-po)/nB) + (po*(1-po)/nD)) \n",
    "print(f\"Z_obs = {np.round(Z_obs, 2)}\")"
   ]
  },
  {
   "cell_type": "code",
   "execution_count": 25,
   "id": "c77df5d0",
   "metadata": {},
   "outputs": [
    {
     "name": "stdout",
     "output_type": "stream",
     "text": [
      "p-valor = 0.87 ≥ α = 0.05 → Não rejeitamos H0\n"
     ]
    }
   ],
   "source": [
    "# Calculando p_value (probabilidade do acaso gerar um valor tão extremo quanto o observado)\n",
    "p_value = norm.cdf(-Z_obs) + (1 - norm.cdf(Z_obs))\n",
    "\n",
    "# Decisão\n",
    "if p_value < alpha:\n",
    "    print(f\"p-valor = {p_value:.2f} < α = {alpha} → Rejeitamos H0\")\n",
    "else:\n",
    "    print(f\"p-valor = {p_value:.2f} ≥ α = {alpha} → Não rejeitamos H0\")"
   ]
  },
  {
   "cell_type": "markdown",
   "id": "8da4431f",
   "metadata": {},
   "source": [
    "## Conclusão\n",
    "\n",
    "- Ao nível de significância de 5%, não encontramos evidência estatística suficiente para rejeitar H₀ em favor de H₁.  \n",
    "Com isso, não podemos concluir que exista diferença significativa nas taxas de conversão entre os grupos B e D."
   ]
  }
 ],
 "metadata": {
  "kernelspec": {
   "display_name": "estudos",
   "language": "python",
   "name": "python3"
  },
  "language_info": {
   "codemirror_mode": {
    "name": "ipython",
    "version": 3
   },
   "file_extension": ".py",
   "mimetype": "text/x-python",
   "name": "python",
   "nbconvert_exporter": "python",
   "pygments_lexer": "ipython3",
   "version": "3.9.21"
  }
 },
 "nbformat": 4,
 "nbformat_minor": 5
}
